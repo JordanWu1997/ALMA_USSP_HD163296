{
 "cells": [
  {
   "cell_type": "markdown",
   "metadata": {
    "Collapsed": "false"
   },
   "source": [
    "### Import Packages"
   ]
  },
  {
   "cell_type": "code",
   "execution_count": 2,
   "metadata": {
    "Collapsed": "false",
    "slideshow": {
     "slide_type": "fragment"
    }
   },
   "outputs": [],
   "source": [
    "import numpy as np\n",
    "from radmc3dPy import *\n",
    "from mpl_toolkits.mplot3d import axes3d\n",
    "from matplotlib import pyplot as plt"
   ]
  },
  {
   "cell_type": "markdown",
   "metadata": {
    "Collapsed": "true"
   },
   "source": [
    "### Functions for Calculation"
   ]
  },
  {
   "cell_type": "markdown",
   "metadata": {
    "Collapsed": "true"
   },
   "source": [
    "#### Calculate Density Dist."
   ]
  },
  {
   "cell_type": "code",
   "execution_count": 3,
   "metadata": {
    "Collapsed": "false",
    "slideshow": {
     "slide_type": "fragment"
    }
   },
   "outputs": [],
   "source": [
    "def cal_H(cr):\n",
    "    '''\n",
    "    calculate disk scale height\n",
    "    '''\n",
    "    H = (16. * (cr/(150.*natconst.au))**1.35) * natconst.au\n",
    "    return H\n",
    "\n",
    "def cal_sigmad_mode1(cr, gamma):\n",
    "    '''\n",
    "    calculate dust column density\n",
    "    No taper term\n",
    "    '''\n",
    "    rc = 90.*natconst.au\n",
    "    cden0 = 0.42\n",
    "    cden = cden0 * ((cr/rc)**(-gamma))\n",
    "    return cden\n",
    "\n",
    "def cal_sigmad_mode2(cr, gamma):\n",
    "    '''\n",
    "    calculate dust column density\n",
    "    with taper term\n",
    "    '''\n",
    "    rc = 90.*natconst.au\n",
    "    cden0 = 0.42 #g/cm2\n",
    "    cden = cden0 * ((cr/rc)**(-gamma)) * np.exp(-((cr/rc)**(2-gamma)))\n",
    "    return cden\n",
    "\n",
    "def cal_den_mode1(cr, z, gamma):\n",
    "    '''\n",
    "    calculate dust density\n",
    "    from sigmad with no taper term\n",
    "    '''\n",
    "    H = cal_H(cr)\n",
    "    cden = cal_sigmad_mode1(cr, gamma)\n",
    "    den = cden / ((2*np.pi)**0.5 * H) * np.exp(-z**2/(2*H**2))\n",
    "    return den\n",
    "\n",
    "def cal_den_mode2(cr, z, gamma):\n",
    "    '''\n",
    "    calculate dust density\n",
    "    from sigmad with taper term\n",
    "    '''\n",
    "    H = cal_H(cr)\n",
    "    cden = cal_sigmad_mode2(cr, gamma)\n",
    "    den = cden / ((2*np.pi)**0.5 * H) * np.exp(-z**2/(2*H**2))\n",
    "    return den\n",
    "\n",
    "def cal_den_mode3(cr, z, cden, gamma):\n",
    "    '''\n",
    "    calculate dust density\n",
    "    from sigmad with taper term\n",
    "    with known dust column density\n",
    "    '''\n",
    "    H = cal_H(cr)\n",
    "    den = cden / ((2*np.pi)**0.5 * H) * np.exp(-z**2/(2*H**2))\n",
    "    return den\n",
    "\n",
    "def make_ring_gap(rc, density, Gpc, wid, dep):\n",
    "    for i, gp in enumerate(Gpc):\n",
    "        density[abs(rc-gp) < wid[i]/2] /= dep[i]\n",
    "    return density"
   ]
  },
  {
   "cell_type": "markdown",
   "metadata": {
    "Collapsed": "true"
   },
   "source": [
    "#### Calculate Temperature Dist."
   ]
  },
  {
   "cell_type": "code",
   "execution_count": 4,
   "metadata": {
    "Collapsed": "false"
   },
   "outputs": [],
   "source": [
    "def cal_zq(cr):\n",
    "    '''\n",
    "    calculate height of disk atmosphere\n",
    "    '''\n",
    "    zq0 = 63*natconst.au\n",
    "    #zq = zq0 * (cr/(200*natconst.au))**1.3 * np.exp(-(cr/(800*natconst.au))**2)\n",
    "    zq = zq0 * (cr/(200*natconst.au))**(1.3) * np.exp(-(cr/(800*natconst.au))**2)\n",
    "    return zq\n",
    "\n",
    "def cal_delta(cr):\n",
    "    '''\n",
    "    calculate vertical shape control parameter\n",
    "    '''\n",
    "    delta = 0.0034 * (cr/natconst.au-200) + 2.5\n",
    "    if delta <= 0.3:\n",
    "        delta = 0.3\n",
    "    return delta\n",
    "\n",
    "def cal_Ta(cr, z):\n",
    "    '''\n",
    "    calculate atmosphere temperature\n",
    "    '''\n",
    "    #Ta = 55. * (((cr**2 + z**2)**0.5) / (200*natconst.au)) ** (-0.5)\n",
    "    Ta = 68. * (((cr**2 + z**2)**0.5) / (100*natconst.au)) ** (-0.6)\n",
    "    return Ta\n",
    "\n",
    "def cal_Tm(cr):\n",
    "    '''\n",
    "    calculate midplane temperature (z=0)\n",
    "    '''\n",
    "    #Tm = 19. * (cr/(155*natconst.au)) ** (-0.3)\n",
    "    Tm = 24. * (cr/(100*natconst.au)) ** (-0.5)\n",
    "    return Tm\n",
    "\n",
    "def cal_Tgas(cr, z):\n",
    "    '''\n",
    "    calculate gas temperature dist.\n",
    "    '''\n",
    "    Ta = cal_Ta(cr, z)\n",
    "    Tm = cal_Tm(cr)\n",
    "    zq = cal_zq(cr)\n",
    "    delta = cal_delta(cr)\n",
    "    if zq > z:\n",
    "        Tgas = Ta + (Tm - Ta) * np.cos(np.pi/2 * (z/zq)) ** (2*delta)\n",
    "    else:\n",
    "        Tgas = Ta\n",
    "    return Tgas\n",
    "\n",
    "# These Two functions need to be vectorized for multi-D if statement\n",
    "cal_delta = np.vectorize(cal_delta)\n",
    "cal_Tgas  = np.vectorize(cal_Tgas)"
   ]
  },
  {
   "cell_type": "markdown",
   "metadata": {
    "Collapsed": "true"
   },
   "source": [
    "### Common Parameters"
   ]
  },
  {
   "cell_type": "code",
   "execution_count": 5,
   "metadata": {
    "Collapsed": "false"
   },
   "outputs": [],
   "source": [
    "# Grid parameters\n",
    "nr       = 250\n",
    "ntheta   = 10\n",
    "nphi     = 1\n",
    "rin      = 3 * natconst.au\n",
    "rout     = 253 * natconst.au\n",
    "thetaup  = np.arccos(cal_H(rout)/rout)    # Unit: Radian\n",
    "# Disk parameters\n",
    "gammad   = 0.1 "
   ]
  },
  {
   "cell_type": "code",
   "execution_count": 6,
   "metadata": {
    "Collapsed": "false"
   },
   "outputs": [],
   "source": [
    "# Ring Gap parameters\n",
    "Gpc  = [60.*natconst.au, 100.*natconst.au, 160.*natconst.au]         # Unit: cm\n",
    "Gwid = [15.*natconst.au, 12.*natconst.au, 15.*natconst.au]           # Unit: cm\n",
    "Gcden = [3e-2, 3e-2, 5e-3]                                           # Unit: g/cm^2 (Those are Upper Limits)\n",
    "\n",
    "# Different Ring Gap parameters\n",
    "# Widest Gap parameters\n",
    "Wwid = [33.*natconst.au, 26.*natconst.au, 55.*natconst.au] \n",
    "Wdep = [13., 7., 3.6]\n",
    "# Narrowest Gap parameters\n",
    "Nwid = [15.*natconst.au, 12.*natconst.au, 15.*natconst.au] \n",
    "Ndep = [150., 70., 6.]"
   ]
  },
  {
   "cell_type": "markdown",
   "metadata": {
    "Collapsed": "true"
   },
   "source": [
    "### Setup Models in Different Coord. System"
   ]
  },
  {
   "cell_type": "markdown",
   "metadata": {
    "Collapsed": "true"
   },
   "source": [
    "#### IN SPHERICAL SYS"
   ]
  },
  {
   "cell_type": "code",
   "execution_count": 7,
   "metadata": {
    "Collapsed": "false"
   },
   "outputs": [],
   "source": [
    "# Setup model in Spherical System\n",
    "ri       = np.linspace(rin, rout, nr+1)\n",
    "thetai   = np.linspace(thetaup, 0.5e0*np.pi, ntheta+1)\n",
    "phii     = np.linspace(0.0e0, np.pi*2.e0, nphi+1)\n",
    "rc       = 0.5 * (ri[0:nr] + ri[1:nr+1])\n",
    "thetac   = 0.5 * (thetai[0:ntheta] + thetai[1:ntheta+1])\n",
    "phic     = 0.5 * (phii[0:nphi] + phii[1:nphi+1])\n",
    "qq       = np.meshgrid(rc,thetac,phic,indexing='ij')\n",
    "rr       = qq[0]\n",
    "tt       = qq[1]\n",
    "zr       = np.pi/2.e0 - qq[1]\n",
    "# Setup Boundary\n",
    "R, THETA_max = rr[:,0,0], zr[0,0,0]"
   ]
  },
  {
   "cell_type": "markdown",
   "metadata": {
    "Collapsed": "true"
   },
   "source": [
    "#### IN CYLINDRICAL SYS"
   ]
  },
  {
   "cell_type": "code",
   "execution_count": 8,
   "metadata": {
    "Collapsed": "false"
   },
   "outputs": [],
   "source": [
    "# Set up model in Cylindrical System\n",
    "nr, nph, nz = nr, nphi, 100 #ntheta\n",
    "Ri       = np.linspace(rin, rout, nr+1)\n",
    "Phii     = np.linspace(0.0e0, np.pi*2.e0, nph+1)\n",
    "Zi       = np.linspace(0.0e0, R[-1]*THETA_max, nz+1)\n",
    "Rc       = 0.5 * (Ri[0:nr] + Ri[1:nr+1])\n",
    "Phic     = 0.5 * (Phii[0:nph] + Phii[1:nph+1])\n",
    "Zic      = 0.5 * (Zi[0:nz] + Zi[1:nz+1])\n",
    "QQ       = np.meshgrid(Rc,Phic,Zic,indexing='ij')\n",
    "RR       = QQ[0]\n",
    "TT       = QQ[1]\n",
    "ZZ       = QQ[2]"
   ]
  },
  {
   "cell_type": "markdown",
   "metadata": {
    "Collapsed": "false"
   },
   "source": [
    "### Compare Different Coord. System"
   ]
  },
  {
   "cell_type": "markdown",
   "metadata": {
    "Collapsed": "true"
   },
   "source": [
    "#### Calculate Density and Temperature"
   ]
  },
  {
   "cell_type": "code",
   "execution_count": 9,
   "metadata": {
    "Collapsed": "false"
   },
   "outputs": [],
   "source": [
    "# Calculate Column Density and Density, Then make Gaps\n",
    "SIGMADS = cal_sigmad_mode2(RR, gammad)\n",
    "SIGMA = make_ring_gap(RR, SIGMADS, Gpc=Gpc, wid=Wwid, dep=Wdep)\n",
    "# Calculate Dust Density\n",
    "DDENS = cal_den_mode3(RR, ZZ, SIGMADS, gammad)\n",
    "TOMO_D = DDENS[:,0,:].T\n",
    "TOMO_D[TOMO_D < 1e-20] = 1e-22\n",
    "\n",
    "# Calculate Dust Temperature\n",
    "TGAS = cal_Tgas(RR, ZZ)\n",
    "TOMO_T = TGAS[:,0,:].T"
   ]
  },
  {
   "cell_type": "markdown",
   "metadata": {
    "Collapsed": "false"
   },
   "source": [
    "#### Plot Density and Temperaure in Cylindrical Tomography"
   ]
  },
  {
   "cell_type": "code",
   "execution_count": 10,
   "metadata": {
    "Collapsed": "false"
   },
   "outputs": [
    {
     "data": {
      "image/png": "[encoded data removed]",
      "text/plain": [
       "<Figure size 1152x576 with 4 Axes>"
      ]
     },
     "metadata": {
      "needs_background": "light"
     },
     "output_type": "display_data"
    }
   ],
   "source": [
    "# Plot Dust Density and Temperature\n",
    "plt.figure(figsize=(16, 8))\n",
    "\n",
    "x = [3, 75.]\n",
    "y = [R[0]*THETA_max/natconst.au, 25]\n",
    "plt.subplot(1,2,1)\n",
    "plt.plot(x, y, 'k--', label='slope=%.3f' % ((y[1]-y[0])/(x[1]-x[0])))\n",
    "plt.plot(R/natconst.au, R*THETA_max/natconst.au, 'k--', label='SPH')\n",
    "c  = plt.contourf(RR[:,0,0]/natconst.au, ZZ[0,0,:]/natconst.au, np.log10(TOMO_D), 10, cmap='jet')\n",
    "cb = plt.colorbar(c)\n",
    "cb.set_label(r'$\\log_{10}{\\rho}$', rotation=270.)\n",
    "plt.xlim(3, max(R/natconst.au))\n",
    "plt.ylim(min(ZZ[0,0,:]/natconst.au), max(ZZ[0,0,:]/natconst.au))\n",
    "plt.title('Dust Density')\n",
    "plt.xlabel('r [AU]')\n",
    "plt.ylabel('Z [AU]')\n",
    "plt.legend()\n",
    "plt.tight_layout()\n",
    "\n",
    "plt.subplot(1,2,2)\n",
    "plt.plot(x, y, 'k--', label='slope=%.3f' % ((y[1]-y[0])/(x[1]-x[0])))\n",
    "plt.plot(R/natconst.au, R*THETA_max/natconst.au, 'k--', label='SPH')\n",
    "c  = plt.contourf(RR[:,0,0]/natconst.au, ZZ[0,0,:]/natconst.au, TOMO_T, 20, cmap='jet')\n",
    "cb = plt.colorbar(c)\n",
    "plt.clim(10, 256)\n",
    "cb.set_label(r'$\\log_{10}{\\rho}$', rotation=270.)\n",
    "plt.ylim(min(ZZ[0,0,:]/natconst.au), max(ZZ[0,0,:]/natconst.au))\n",
    "plt.title('Dust Temperature')\n",
    "plt.xlabel('r [AU]')\n",
    "plt.ylabel('Z [AU]')\n",
    "plt.tight_layout()\n",
    "plt.legend()\n",
    "\n",
    "plt.show()"
   ]
  }
 ],
 "metadata": {
  "kernelspec": {
   "display_name": "Python 3",
   "language": "python",
   "name": "python3"
  },
  "language_info": {
   "codemirror_mode": {
    "name": "ipython",
    "version": 3
   },
   "file_extension": ".py",
   "mimetype": "text/x-python",
   "name": "python",
   "nbconvert_exporter": "python",
   "pygments_lexer": "ipython3",
   "version": "3.7.1"
  },
  "toc-autonumbering": false
 },
 "nbformat": 4,
 "nbformat_minor": 4
}

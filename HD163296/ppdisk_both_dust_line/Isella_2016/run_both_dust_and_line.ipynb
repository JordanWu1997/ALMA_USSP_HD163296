{
 "cells": [
  {
   "cell_type": "markdown",
   "metadata": {
    "Collapsed": "false",
    "slideshow": {
     "slide_type": "slide"
    },
    "toc-hr-collapsed": false
   },
   "source": [
    "# Setup PPDisk Simple Model\n",
    "* CREDIT: RADMC-3D EXAMPLES\n",
    "* MODELING TARGET: HD163296"
   ]
  },
  {
   "cell_type": "markdown",
   "metadata": {
    "Collapsed": "false",
    "slideshow": {
     "slide_type": "slide"
    }
   },
   "source": [
    "## 00 - About ***radmc3dPy.models.ppdisk module***"
   ]
  },
  {
   "cell_type": "markdown",
   "metadata": {
    "Collapsed": "false"
   },
   "source": [
    "Generic protoplanetary disk model<br>\n",
    "The density is given by\n",
    "\n",
    "* $\\rho = \\frac{\\Sigma(r,\\phi)}{H_p\\sqrt{(2\\pi)}}\\exp{(-\\frac{z^2}{2H_p^2})}$\n",
    "\n",
    "    * $\\Sigma$ - Surface density\n",
    "    * $H_p$ - Pressure scale height\n",
    "\n",
    "There are two options for the functional form of surface density as a function of radius. For a simple power-law the surface density is given by\n",
    "\n",
    "* $\\Sigma(r)=\\Sigma_0 (\\frac{r}{r_{out}})^p$\n",
    "\n",
    "alternatively the surface density can also have an exponential outer tapering:\n",
    "\n",
    "* $\\Sigma(r)=\\Sigma_0 (\\frac{r}{r_{out}})^p \\exp[-(\\frac{r}{r_{out}})^{2-p}]$\n",
    "\n",
    "The molecular abundance function takes into account dissociation and <b>freeze-out of the molecules For photodissociation only the continuum (dust) shielding is taken into account in a way that whenever the continuum optical depth radially drops below a threshold value the molecular abundance is dropped to zero.</b> For freeze-out the molecular abundance below a threshold temperature is decreased by a given fractor."
   ]
  },
  {
   "cell_type": "markdown",
   "metadata": {
    "Collapsed": "false"
   },
   "source": [
    "## 00 - About *HD163296*"
   ]
  },
  {
   "cell_type": "markdown",
   "metadata": {
    "Collapsed": "false",
    "slideshow": {
     "slide_type": "subslide"
    }
   },
   "source": [
    "### Information:\n",
    "* RA DEC (FK5): 17h53m20.6063742757s -21d56m57.379723676s\n",
    "* Star Class: Herbig Ae/Be star\n",
    "* Spectral Type: A1Vep C\n",
    "* Star Mass: 2.3 $M_{\\odot}$\n",
    "* Star Radius: 1.66 $R_{\\odot}$\n",
    "* Star Temperature: 9330 K\n",
    "* Distance to us: 140. pc\n",
    "* Inclination Angle: $42^{\\circ}$\n",
    "* Position Angle: $132^{\\circ}$\n",
    "* Disk Radius: 250. unit:AU\n",
    "* Gap Position: 60., 100., 160. unit:AU\n",
    "\n",
    "### Reference:\n",
    "* *Rosenfeld et al.(2013)*\n",
    "* *Isella et al. (2016)*\n",
    "* *Gregorio-Monsalvo et al. (2013)*\n",
    "* http://simbad.u-strasbg.fr/simbad/sim-id?Ident=HD+163296\n",
    "* http://www.exoplanetkyoto.org/exohtml/HD_163296.html\n",
    "* https://sites.uni.edu/morgans/astro/course/Notes/section2/spectraltemps.html"
   ]
  },
  {
   "cell_type": "markdown",
   "metadata": {
    "Collapsed": "false",
    "slideshow": {
     "slide_type": "slide"
    }
   },
   "source": [
    "## 01 - Set Up"
   ]
  },
  {
   "cell_type": "code",
   "execution_count": 2,
   "metadata": {
    "Collapsed": "false",
    "slideshow": {
     "slide_type": "fragment"
    }
   },
   "outputs": [],
   "source": [
    "import numpy as np\n",
    "from radmc3dPy import *\n",
    "from mpl_toolkits.mplot3d import axes3d\n",
    "from matplotlib import pyplot as plt"
   ]
  },
  {
   "cell_type": "markdown",
   "metadata": {
    "Collapsed": "false",
    "slideshow": {
     "slide_type": "slide"
    }
   },
   "source": [
    "## 02 - Functions"
   ]
  },
  {
   "cell_type": "markdown",
   "metadata": {
    "Collapsed": "false"
   },
   "source": [
    "* All functions are calculated in **CYLINDRICAL** Coordinate"
   ]
  },
  {
   "cell_type": "markdown",
   "metadata": {
    "Collapsed": "false"
   },
   "source": [
    "### (1) Calculate Dust/Gas Temperature"
   ]
  },
  {
   "cell_type": "code",
   "execution_count": 3,
   "metadata": {
    "Collapsed": "false"
   },
   "outputs": [],
   "source": [
    "def cal_zq(cr):\n",
    "    '''\n",
    "    calculate height of disk atmosphere\n",
    "    '''\n",
    "    zq0 = 63*natconst.au\n",
    "    zq = zq0 * (cr/(200*natconst.au))**1.3 * np.exp(-(cr/(800*natconst.au))**2)\n",
    "    return zq\n",
    "\n",
    "def cal_delta(cr):\n",
    "    '''\n",
    "    calculate vertical shape control parameter\n",
    "    '''\n",
    "    delta = 0.0034 * (cr/natconst.au-200) + 2.5\n",
    "    if delta <= 0.3:\n",
    "        delta = 0.3\n",
    "    return delta\n",
    "\n",
    "def cal_Ta(cr, z):\n",
    "    '''\n",
    "    calculate atmosphere temperature\n",
    "    '''\n",
    "    #Ta = 55. * (((r**2 + zr**2)**0.5) / (200*natconst.au)) ** (-0.5)\n",
    "    Ta = 68. * (((cr**2 + z**2)**0.5) / (100*natconst.au)) ** (-0.6)\n",
    "    return Ta\n",
    "\n",
    "def cal_Tm(cr):\n",
    "    '''\n",
    "    calculate midplane temperature (z=0)\n",
    "    '''\n",
    "    #Tm = 19. * (r/(155*natconst.au)) ** (-0.3)\n",
    "    Tm = 24. * (cr/(100*natconst.au)) ** (-0.5)\n",
    "    return Tm\n",
    "\n",
    "def cal_Tgas(cr, z):\n",
    "    '''\n",
    "    calculate gas temperature dist.\n",
    "    '''\n",
    "    Ta = cal_Ta(cr, z)\n",
    "    Tm = cal_Tm(cr)\n",
    "    zq = cal_zq(cr)\n",
    "    delta = cal_delta(cr)\n",
    "    if zq > z:\n",
    "        Tgas = Ta + (Tm - Ta) * np.cos(np.pi/2 * (z/zq)) ** (2*delta)\n",
    "    else:\n",
    "        Tgas = Ta\n",
    "    return Tgas\n",
    "\n",
    "# These Two functions need to be vectorized for multi-D if statement\n",
    "cal_delta = np.vectorize(cal_delta)\n",
    "cal_Tgas = np.vectorize(cal_Tgas)"
   ]
  },
  {
   "cell_type": "markdown",
   "metadata": {
    "Collapsed": "false"
   },
   "source": [
    "### (2) Calculate Dust Column Density"
   ]
  },
  {
   "cell_type": "code",
   "execution_count": 4,
   "metadata": {
    "Collapsed": "false",
    "slideshow": {
     "slide_type": "fragment"
    }
   },
   "outputs": [],
   "source": [
    "def cal_H(cr):\n",
    "    '''\n",
    "    calculate disk scale height\n",
    "    '''\n",
    "    H = (16. * (cr/(150.*natconst.au))**1.35) * natconst.au\n",
    "    return H\n",
    "\n",
    "def cal_dsigma(cr, gamma):\n",
    "    '''\n",
    "    calculate dust column density\n",
    "    with taper term\n",
    "    '''\n",
    "    rc = 90.*natconst.au\n",
    "    cden0 = 0.42 #g/cm2\n",
    "    cden = cden0 * ((cr/rc)**(-gamma)) * np.exp(-((cr/rc)**(2-gamma)))\n",
    "    return cden\n",
    "\n",
    "def cal_ddens(cr, z, gamma):\n",
    "    '''\n",
    "    calculate dust density\n",
    "    from sigmad with taper term\n",
    "    '''\n",
    "    H = cal_H(cr)\n",
    "    cden = cal_dsigma(cr, gamma)\n",
    "    den = cden / ((2*np.pi)**0.5 * H) * np.exp(-z**2/(2*H**2))\n",
    "    return den"
   ]
  },
  {
   "cell_type": "markdown",
   "metadata": {
    "Collapsed": "false"
   },
   "source": [
    "### (3) Calculate Molecule Number Density"
   ]
  },
  {
   "cell_type": "code",
   "execution_count": 5,
   "metadata": {
    "Collapsed": "false"
   },
   "outputs": [],
   "source": [
    "def cal_gsigma(cr, cden0, rc, gamma):\n",
    "    '''\n",
    "    calculate column density\n",
    "    with taper term\n",
    "    '''\n",
    "    cden = cden0 * ((cr/rc)**(-gamma)) * np.exp(-((cr/rc)**(2-gamma)))\n",
    "    return cden\n",
    "\n",
    "def cal_gdens(cr, z, cden, gamma):\n",
    "    '''\n",
    "    calculate dust density\n",
    "    from sigmad with taper term\n",
    "    with known dust column density\n",
    "    '''\n",
    "    H = cal_H(cr)\n",
    "    den = cden / ((2*np.pi)**0.5 * H) * np.exp(-z**2/(2*H**2))\n",
    "    return den\n",
    "\n",
    "def cal_ndens(density, mol_w):\n",
    "    ndens = density / (mol_w*natconst.mp)\n",
    "    return ndens\n",
    "\n",
    "def cal_depletion(n_molecule, T, Tfrz):\n",
    "    '''\n",
    "    calculate 12CO depletion factor\n",
    "    with CO depletion\n",
    "    '''\n",
    "    frz =  0.\n",
    "    if T <= Tfrz:\n",
    "        n_molecule = frz * n_molecule\n",
    "    return n_molecule\n",
    "cal_depletion = np.vectorize(cal_depletion)"
   ]
  },
  {
   "cell_type": "markdown",
   "metadata": {
    "Collapsed": "false"
   },
   "source": [
    "### (4) Make Ring Gaps and Calculate Density"
   ]
  },
  {
   "cell_type": "code",
   "execution_count": 6,
   "metadata": {
    "Collapsed": "false"
   },
   "outputs": [],
   "source": [
    "def make_ring_gap(rc, density, Gpc, wid, dep):\n",
    "    for i, gp in enumerate(Gpc):\n",
    "        density[abs(rc-gp) < wid[i]/2] /= dep[i]\n",
    "    return density\n",
    "\n",
    "def cal_ddens_wi_cden(cr, z, cden, gamma):\n",
    "    '''\n",
    "    calculate dust density\n",
    "    from sigmad with taper term\n",
    "    with known dust column density\n",
    "    '''\n",
    "    H = cal_H(cr)\n",
    "    den = cden / ((2*np.pi)**0.5 * H) * np.exp(-z**2/(2*H**2))\n",
    "    return den"
   ]
  },
  {
   "cell_type": "markdown",
   "metadata": {
    "Collapsed": "false"
   },
   "source": [
    "## 03 - Parameters\n"
   ]
  },
  {
   "cell_type": "markdown",
   "metadata": {
    "Collapsed": "false"
   },
   "source": [
    "### (1) Common Parameters"
   ]
  },
  {
   "cell_type": "code",
   "execution_count": 7,
   "metadata": {
    "Collapsed": "false"
   },
   "outputs": [],
   "source": [
    "# Monte Carlo parameters\n",
    "nphot    = 1000000\n",
    "\n",
    "# Star parameters\n",
    "mstar    = 2.3 * natconst.ms\n",
    "rstar    = 1.66 * natconst.rs\n",
    "tstar    = 9330.\n",
    "pstar    = np.array([0.,0.,0.])\n",
    "\n",
    "# Grid parameters\n",
    "nr       = 250\n",
    "ntheta   = 10\n",
    "nphi     = 1\n",
    "rin      = 2 * natconst.au\n",
    "rout     = 252 * natconst.au\n",
    "thetaup  = np.arccos(cal_H(rout)/rout)    # Unit: Radian     \n",
    "#print('Open Theta Angle is {:.10f} radian'.format(np.pi/2-thetaup))\n",
    "\n",
    "# Ring Gap parameters\n",
    "Gpc  = [60.*natconst.au, 100.*natconst.au, 160.*natconst.au]\n",
    "# Widest Gap parameters\n",
    "Wwid = [33.*natconst.au, 26.*natconst.au, 55.*natconst.au] \n",
    "Wddep = [13., 7., 3.6]\n",
    "WCOdep = [1., 3.5, 1.8]\n",
    "# Narrowest Gap parameters\n",
    "Nwid = [15.*natconst.au, 12.*natconst.au, 15.*natconst.au] \n",
    "Nddep = [150., 70., 6.]\n",
    "NCOdep = [2.5, 70., 6.]"
   ]
  },
  {
   "cell_type": "code",
   "execution_count": 8,
   "metadata": {
    "Collapsed": "false"
   },
   "outputs": [],
   "source": [
    "# Wavelength Information\n",
    "lam1     = 0.1e0\n",
    "lam2     = 7.0e0\n",
    "lam3     = 25.0e0\n",
    "lam4     = 1.0e4\n",
    "n12      = 20\n",
    "n23      = 100\n",
    "n34      = 30\n",
    "lam12    = np.logspace(np.log10(lam1),np.log10(lam2),n12,endpoint=False)\n",
    "lam23    = np.logspace(np.log10(lam2),np.log10(lam3),n23,endpoint=False)\n",
    "lam34    = np.logspace(np.log10(lam3),np.log10(lam4),n34,endpoint=True)\n",
    "lam      = np.concatenate([lam12,lam23,lam34])\n",
    "nlam     = lam.size"
   ]
  },
  {
   "cell_type": "markdown",
   "metadata": {
    "Collapsed": "false"
   },
   "source": [
    "### (2) Dust Parameters"
   ]
  },
  {
   "cell_type": "code",
   "execution_count": 9,
   "metadata": {
    "Collapsed": "false"
   },
   "outputs": [],
   "source": [
    "dgamma   = 0.1\n",
    "dRc      = 90 * natconst.au\n",
    "dcdenc   = 0.42"
   ]
  },
  {
   "cell_type": "markdown",
   "metadata": {
    "Collapsed": "false"
   },
   "source": [
    "### (3) Molecule Gas Parameters"
   ]
  },
  {
   "cell_type": "code",
   "execution_count": 10,
   "metadata": {
    "Collapsed": "false"
   },
   "outputs": [],
   "source": [
    "ggamma    = 0.8\n",
    "gRc       = 165 * natconst.au\n",
    "cdenc12CO = 1.6e-3 \n",
    "cdenc13CO = 2.3e-5\n",
    "cdencC18O = 2.9e-6\n",
    "CO_H2     = 5e-5 * 28/2 # Abundance"
   ]
  },
  {
   "cell_type": "markdown",
   "metadata": {
    "Collapsed": "false"
   },
   "source": [
    "## 04 - Calculate Input Data"
   ]
  },
  {
   "cell_type": "markdown",
   "metadata": {
    "Collapsed": "false"
   },
   "source": [
    "### (1) Make Input Grids"
   ]
  },
  {
   "cell_type": "code",
   "execution_count": 11,
   "metadata": {
    "Collapsed": "false"
   },
   "outputs": [],
   "source": [
    "# Make the coordinates\n",
    "ri       = np.linspace(rin, rout, nr+1)\n",
    "thetai   = np.linspace(thetaup, 0.5e0*np.pi, ntheta+1)\n",
    "phii     = np.linspace(0.0e0, np.pi*2.e0, nphi+1)\n",
    "rc       = 0.5 * (ri[0:nr] + ri[1:nr+1])\n",
    "thetac   = 0.5 * (thetai[0:ntheta] + thetai[1:ntheta+1])\n",
    "phic     = 0.5 * (phii[0:nphi] + phii[1:nphi+1])\n",
    "\n",
    "# Make the grid\n",
    "qq       = np.meshgrid(rc,thetac,phic,indexing='ij')\n",
    "rr       = qq[0]\n",
    "tt       = qq[1]\n",
    "zr       = np.pi/2.e0 - qq[1]"
   ]
  },
  {
   "cell_type": "markdown",
   "metadata": {
    "Collapsed": "false"
   },
   "source": [
    "### (2) Calculate Temperature\n",
    "* Here assuming all gas and dust are in Equilibrium, then Tgas=Tdust"
   ]
  },
  {
   "cell_type": "code",
   "execution_count": 12,
   "metadata": {
    "Collapsed": "false"
   },
   "outputs": [],
   "source": [
    "from copy import deepcopy\n",
    "# Make the gas temperature model\n",
    "Tgas = cal_Tgas(rr, zr)\n",
    "Dgas = deepcopy(Tgas)"
   ]
  },
  {
   "cell_type": "markdown",
   "metadata": {
    "Collapsed": "false"
   },
   "source": [
    "### (3) Calculate Dust Density"
   ]
  },
  {
   "cell_type": "code",
   "execution_count": 13,
   "metadata": {
    "Collapsed": "false"
   },
   "outputs": [],
   "source": [
    "# Calculate Column Density, Then make Gaps\n",
    "dsigmas = cal_dsigma(rr*np.cos(zr), dgamma)\n",
    "dsigma  = make_ring_gap(rr*np.cos(zr), dsigmas, Gpc=Gpc, wid=Wwid, dep=Wddep)\n",
    "\n",
    "# Calculate Dust Density\n",
    "ddens = cal_ddens_wi_cden(rr*np.cos(zr), rr*np.sin(zr), dsigma, dgamma)"
   ]
  },
  {
   "cell_type": "markdown",
   "metadata": {
    "Collapsed": "false"
   },
   "source": [
    "### (4) Calculate Molecule Gas Number Density\n",
    "* Assuming there is Only CO, H2\n",
    "* Assuming [CO]/[H2] is universal constant"
   ]
  },
  {
   "cell_type": "code",
   "execution_count": 14,
   "metadata": {
    "Collapsed": "false"
   },
   "outputs": [],
   "source": [
    "# 12CO Molecule Gas\n",
    "gsigma12COs = cal_gsigma(rr*np.cos(zr), cdenc12CO, gRc, ggamma)\n",
    "gsigma12CO  = make_ring_gap(rr*np.cos(zr), gsigma12COs, Gpc=Gpc, wid=Wwid, dep=WCOdep)\n",
    "gdens12CO   = cal_gdens(rr*np.cos(zr), rr*np.sin(zr), gsigma12CO, ggamma)\n",
    "n12CO = cal_ndens(gdens12CO, 28)\n",
    "n12CO = cal_depletion(n12CO, Tgas, 19.)\n",
    "\n",
    "# All Gas\n",
    "gsigma = gsigma12CO / CO_H2\n",
    "gdens  = gdens12CO  / CO_H2\n",
    "n12CO  = cal_ndens(gdens, 2.3)"
   ]
  },
  {
   "cell_type": "markdown",
   "metadata": {
    "Collapsed": "false"
   },
   "source": [
    "### (5) Calculate Molecule Gas Velocity\n",
    "* Assuming Keplerian Motions\n",
    "* Here also writing velocity inp file\n",
    "* Systematic Velocity is got from Observational Spectral Profile"
   ]
  },
  {
   "cell_type": "code",
   "execution_count": 15,
   "metadata": {
    "Collapsed": "false"
   },
   "outputs": [],
   "source": [
    "vpm = np.zeros((nr, ntheta, nphi))\n",
    "with open('gas_velocity.inp','w+') as f:\n",
    "    f.write('1\\n')                        # Format number\n",
    "    f.write('%d\\n' % (nr*ntheta*nphi))    # Nr of cells\n",
    "    for i in range(nphi):\n",
    "        for j in range(ntheta):\n",
    "            for k in range(nr):\n",
    "                r = (ri[k] + ri[k+1]) / 2\n",
    "                t = np.pi/2 - (thetai[j] + thetai[j]) / 2\n",
    "                z = r * np.sin(t)\n",
    "                vpm[k, j, i] = -(natconst.gg*mstar)**0.5 * r/((r**2 + z**2)**0.75)\n",
    "                vr, vt, vp = 0.0, 0.0, -(natconst.gg*mstar)**0.5 * r/((r**2 + z**2)**0.75)\n",
    "                f.write('{:.6e}\\t{:.6e}\\t{:.6e}\\t\\n'.format(vr, vt, vp))\n",
    "np.save('gas_velocity', vpm)"
   ]
  },
  {
   "cell_type": "markdown",
   "metadata": {
    "Collapsed": "false"
   },
   "source": [
    "## 05 - Write Inp files"
   ]
  },
  {
   "cell_type": "markdown",
   "metadata": {
    "Collapsed": "false",
    "slideshow": {
     "slide_type": "subslide"
    }
   },
   "source": [
    "### (1) Wavelength"
   ]
  },
  {
   "cell_type": "code",
   "execution_count": 16,
   "metadata": {
    "Collapsed": "false",
    "slideshow": {
     "slide_type": "fragment"
    }
   },
   "outputs": [],
   "source": [
    "# Write the wavelength file\n",
    "with open('wavelength_micron.inp','w+') as f:\n",
    "    f.write('%d\\n'%(nlam))\n",
    "    for value in lam:\n",
    "        f.write('%13.6e\\n'%(value))"
   ]
  },
  {
   "cell_type": "markdown",
   "metadata": {
    "Collapsed": "false",
    "slideshow": {
     "slide_type": "fragment"
    }
   },
   "source": [
    "### (2) Star (Radiation Source)"
   ]
  },
  {
   "cell_type": "code",
   "execution_count": 17,
   "metadata": {
    "Collapsed": "false",
    "slideshow": {
     "slide_type": "fragment"
    }
   },
   "outputs": [],
   "source": [
    "# Write the stars.inp file\n",
    "with open('stars.inp','w+') as f:\n",
    "    f.write('2\\n')\n",
    "    f.write('1 %d\\n\\n'%(nlam))\n",
    "    f.write('%13.6e %13.6e %13.6e %13.6e %13.6e\\n\\n'%(rstar,mstar,pstar[0],pstar[1],pstar[2]))\n",
    "    for value in lam:\n",
    "        f.write('%13.6e\\n'%(value))\n",
    "    f.write('\\n%13.6e\\n'%(-tstar))"
   ]
  },
  {
   "cell_type": "markdown",
   "metadata": {
    "Collapsed": "false",
    "slideshow": {
     "slide_type": "slide"
    },
    "toc-hr-collapsed": false
   },
   "source": [
    "### (3) AMR Grid (Meshgrid Point Table for Radmc3d)"
   ]
  },
  {
   "cell_type": "code",
   "execution_count": 18,
   "metadata": {
    "Collapsed": "false",
    "slideshow": {
     "slide_type": "fragment"
    }
   },
   "outputs": [],
   "source": [
    "# Write the grid file\n",
    "with open('amr_grid.inp','w+') as f:\n",
    "    f.write('1\\n')                       # iformat\n",
    "    f.write('0\\n')                       # AMR grid style  (0=regular grid, no AMR)\n",
    "    f.write('100\\n')                     # Coordinate system: spherical\n",
    "    f.write('0\\n')                       # gridinfo\n",
    "    f.write('1 1 0\\n')                   # Include r,theta coordinates\n",
    "    f.write('%d %d %d\\n'%(nr,ntheta,1))  # Size of grid\n",
    "    for value in ri:\n",
    "        f.write('%13.6e\\n'%(value))      # X coordinates (cell walls)\n",
    "    for value in thetai:\n",
    "        f.write('%13.6e\\n'%(value))      # Y coordinates (cell walls)\n",
    "    for value in phii:\n",
    "        f.write('%13.6e\\n'%(value))      # Z coordinates (cell walls)"
   ]
  },
  {
   "cell_type": "markdown",
   "metadata": {
    "Collapsed": "false"
   },
   "source": [
    "### (4) Temperature"
   ]
  },
  {
   "cell_type": "code",
   "execution_count": 19,
   "metadata": {
    "Collapsed": "false"
   },
   "outputs": [],
   "source": [
    "# Write the temperature file\n",
    "with open('dust_temperature.dat','w+') as f:\n",
    "    f.write('1\\n')                       # Format number\n",
    "    f.write('%d\\n'%(nr*ntheta*nphi))     # Nr of cells\n",
    "    f.write('1\\n')\n",
    "    data = Tgas.ravel(order='F')         # Create a 1-D view, fortran-style indexing\n",
    "    data.tofile(f, sep='\\n', format=\"%13.6e\")\n",
    "    f.write('\\n')\n",
    "\n",
    "with open('gas_temperature.inp','w+') as f:\n",
    "    f.write('1\\n')                       # Format number\n",
    "    f.write('%d\\n'%(nr*ntheta*nphi))     # Nr of cells\n",
    "    data = Tgas.ravel(order='F')         # Create a 1-D view, fortran-style indexing\n",
    "    data.tofile(f, sep='\\n', format=\"%13.6e\")\n",
    "    f.write('\\n')"
   ]
  },
  {
   "cell_type": "markdown",
   "metadata": {
    "Collapsed": "false",
    "slideshow": {
     "slide_type": "slide"
    }
   },
   "source": [
    "### (5) Dust Density"
   ]
  },
  {
   "cell_type": "code",
   "execution_count": 20,
   "metadata": {
    "Collapsed": "false",
    "slideshow": {
     "slide_type": "fragment"
    }
   },
   "outputs": [],
   "source": [
    "# Write the dust density file\n",
    "with open('dust_density.inp','w+') as f:\n",
    "    f.write('1\\n')                       # Format number\n",
    "    f.write('%d\\n'%(nr*ntheta*nphi))     # Nr of cells\n",
    "    f.write('1\\n')                       # Nr of dust species\n",
    "    data = ddens.ravel(order='F')        # Create a 1-D view, fortran-style indexing\n",
    "    data.tofile(f, sep='\\n', format=\"%13.6e\")\n",
    "    f.write('\\n')"
   ]
  },
  {
   "cell_type": "markdown",
   "metadata": {
    "Collapsed": "false",
    "slideshow": {
     "slide_type": "fragment"
    }
   },
   "source": [
    "### (6) Dust Opacity (Control File for Dust Opacity)"
   ]
  },
  {
   "cell_type": "markdown",
   "metadata": {
    "Collapsed": "false"
   },
   "source": [
    "* Originally, we use silicate opacity in RADMC3D\n",
    "* However, HD163296 is in much denser region\n",
    "* Therefore, new opacity profile is needed"
   ]
  },
  {
   "cell_type": "code",
   "execution_count": 22,
   "metadata": {
    "Collapsed": "false"
   },
   "outputs": [],
   "source": [
    "# New dust kappa (opacity)\n",
    "with open('dustkappa_silicate.inp', 'w+') as out:\n",
    "    data = open('dustkappa_silicate-backup.inp', 'r').readlines()[2:]\n",
    "    out.write('2\\n240\\n')\n",
    "    factor = 36.\n",
    "    for i in range(len(data)):\n",
    "        if float(data[i].split()[0]) > 1e1:\n",
    "            row = data[i].split()\n",
    "            row[1] = '{:.6e}'.format(float(row[1])*factor)\n",
    "            row[2] = '{:.6e}'.format(float(row[2])*factor)\n",
    "            out.write('\\t'.join(row) + '\\n')"
   ]
  },
  {
   "cell_type": "code",
   "execution_count": 23,
   "metadata": {
    "Collapsed": "false",
    "slideshow": {
     "slide_type": "fragment"
    }
   },
   "outputs": [],
   "source": [
    "# Dust opacity control file\n",
    "with open('dustopac.inp','w+') as f:\n",
    "    f.write('2               Format number of this file\\n')\n",
    "    f.write('1               Nr of dust species\\n')\n",
    "    f.write('============================================================================\\n')\n",
    "    f.write('1               Way in which this dust species is read\\n')\n",
    "    f.write('0               0=Thermal grain\\n')\n",
    "    f.write('silicate        Extension of name of dustkappa_***.inp file\\n')\n",
    "    f.write('----------------------------------------------------------------------------\\n')"
   ]
  },
  {
   "cell_type": "markdown",
   "metadata": {
    "Collapsed": "false"
   },
   "source": [
    "### (7) Molecule Gas Number Density"
   ]
  },
  {
   "cell_type": "code",
   "execution_count": 24,
   "metadata": {
    "Collapsed": "false"
   },
   "outputs": [],
   "source": [
    "with open('numberdens_co.inp','w+') as f:\n",
    "    f.write('1\\n')                         # Format number\n",
    "    f.write('%d\\n'%(nr*ntheta*nphi))       # Nr of cells\n",
    "    data = n12CO.ravel(order='F')          # Create a 1-D view, fortran-style indexing\n",
    "    data.tofile(f, sep='\\n', format=\"%13.6e\")\n",
    "    f.write('\\n')"
   ]
  },
  {
   "cell_type": "markdown",
   "metadata": {
    "Collapsed": "false"
   },
   "source": [
    "### (8) Gas Velocity Turbulence"
   ]
  },
  {
   "cell_type": "code",
   "execution_count": 25,
   "metadata": {
    "Collapsed": "false"
   },
   "outputs": [],
   "source": [
    "vturb0  = 0.0 #3.0e5\n",
    "vturb   = np.zeros((nr,ntheta,nphi)) + vturb0\n",
    "\n",
    "# Write the microturbulence file\n",
    "with open('microturbulence.inp','w+') as f:\n",
    "    f.write('1\\n')                         # Format number\n",
    "    f.write('%d\\n'%(nr*ntheta*nphi))       # Nr of cells\n",
    "    data = vturb.ravel(order='F')          # Create a 1-D view, fortran-style indexing\n",
    "    data.tofile(f, sep='\\n', format=\"%13.6e\")\n",
    "    f.write('\\n')"
   ]
  },
  {
   "cell_type": "markdown",
   "metadata": {
    "Collapsed": "false"
   },
   "source": [
    "### (9) Line Mode Inp\n",
    "* Only Let **lins.inp** file exist when calculating line emission\n",
    "* It must be deleted when calculating dust continuum"
   ]
  },
  {
   "cell_type": "code",
   "execution_count": 26,
   "metadata": {
    "Collapsed": "false"
   },
   "outputs": [],
   "source": [
    "# Write the lines.inp control file\n",
    "with open('lines.inp','w+') as f:\n",
    "    f.write('1\\n')\n",
    "    f.write('1\\n')\n",
    "    f.write('co    leiden    0    0\\n')\n",
    "    \n",
    "def Line_Mode(Switch):\n",
    "    Switch = bool(Switch)\n",
    "    if Switch:\n",
    "        with open('lines.inp','w+') as f:\n",
    "            f.write('1\\n')\n",
    "            f.write('1\\n')\n",
    "            f.write('co    leiden    0    0\\n')\n",
    "    else:\n",
    "        # Close Line Mode\n",
    "        from os import system\n",
    "        from os.path import isfile\n",
    "        if isfile('lines.inp'):\n",
    "            system('rm lines.inp')"
   ]
  },
  {
   "cell_type": "markdown",
   "metadata": {
    "Collapsed": "false",
    "slideshow": {
     "slide_type": "fragment"
    }
   },
   "source": [
    "### (10) Radmc3D Input (Control File for Monte Carlo Simulation)"
   ]
  },
  {
   "cell_type": "code",
   "execution_count": 27,
   "metadata": {
    "Collapsed": "false",
    "slideshow": {
     "slide_type": "fragment"
    }
   },
   "outputs": [],
   "source": [
    "# Write the radmc3d.inp control file\n",
    "with open('radmc3d.inp','w+') as f:\n",
    "    f.write('nphot = %d\\n'%(nphot))\n",
    "    f.write('scattering_mode_max = 1\\n')\n",
    "    f.write('modified_random_walk = 1\\n')  # Put this to 1 for random walk\n",
    "    f.write('tgas_eq_tdust = 0\\n')         # Put this to 1 for Tgas=Tdust\n",
    "    f.write('iranfreqmode = 1\\n')"
   ]
  },
  {
   "cell_type": "markdown",
   "metadata": {
    "Collapsed": "false"
   },
   "source": [
    "## 06 - Basic Analysis"
   ]
  },
  {
   "cell_type": "markdown",
   "metadata": {
    "Collapsed": "false"
   },
   "source": [
    "### (1) Column Density, Density, Dust/Gas Ratio"
   ]
  },
  {
   "cell_type": "code",
   "execution_count": 28,
   "metadata": {
    "Collapsed": "false"
   },
   "outputs": [
    {
     "data": {
      "image/png": "[encoded data removed]",
      "text/plain": [
       "<Figure size 1728x576 with 3 Axes>"
      ]
     },
     "metadata": {
      "needs_background": "light"
     },
     "output_type": "display_data"
    }
   ],
   "source": [
    "fig, axes = plt.subplots(1, 3, figsize=(24, 8))\n",
    "\n",
    "dsigmas = cal_dsigma(rr*np.cos(zr), dgamma)\n",
    "dsigma  = make_ring_gap(rr*np.cos(zr), dsigmas, Gpc=Gpc, wid=Wwid, dep=Wddep)\n",
    "ddens = cal_ddens_wi_cden(rr*np.cos(zr), rr*np.sin(zr), dsigma, dgamma)\n",
    "axes[0].semilogy(rr[:,0,0]/natconst.au, dsigma[:,-1,0], 'b', label='dust')\n",
    "axes[1].semilogy(rr[:,0,0]/natconst.au, ddens[:,-1,0], 'b', label='dust')\n",
    "\n",
    "dsigmas = cal_dsigma(rr*np.cos(zr), dgamma)\n",
    "dsigma  = make_ring_gap(rr*np.cos(zr), dsigmas, Gpc=Gpc, wid=Nwid, dep=Nddep)\n",
    "ddens = cal_ddens_wi_cden(rr*np.cos(zr), rr*np.sin(zr), dsigma, dgamma)\n",
    "axes[0].semilogy(rr[:,0,0]/natconst.au, dsigma[:,-1,0], 'b--')\n",
    "axes[1].semilogy(rr[:,0,0]/natconst.au, ddens[:,-1,0], 'b--')\n",
    "\n",
    "gsigma12COs = cal_gsigma(rr*np.cos(zr), cdenc12CO, gRc, ggamma)\n",
    "gsigma12CO  = make_ring_gap(rr*np.cos(zr), gsigma12COs, Gpc=Gpc, wid=Wwid, dep=WCOdep)\n",
    "gdens12CO   = cal_gdens(rr*np.cos(zr), rr*np.sin(zr), gsigma12CO, ggamma)\n",
    "gsigma = gsigma12CO / CO_H2\n",
    "gdens  = gdens12CO  / CO_H2\n",
    "axes[0].semilogy(rr[:,0,0]/natconst.au, gsigma[:,-1,0], 'm', label='gas')\n",
    "axes[1].semilogy(rr[:,0,0]/natconst.au, gdens[:,-1,0], 'm', label='gas')\n",
    "\n",
    "gsigma12COs = cal_gsigma(rr*np.cos(zr), cdenc12CO, gRc, ggamma)\n",
    "gsigma12CO  = make_ring_gap(rr*np.cos(zr), gsigma12COs, Gpc=Gpc, wid=Nwid, dep=NCOdep)\n",
    "gdens12CO   = cal_gdens(rr*np.cos(zr), rr*np.sin(zr), gsigma12CO, ggamma)\n",
    "gsigma = gsigma12CO / CO_H2\n",
    "gdens  = gdens12CO  / CO_H2\n",
    "axes[0].semilogy(rr[:,0,0]/natconst.au, gsigma[:,-1,0], 'm--')\n",
    "axes[1].semilogy(rr[:,0,0]/natconst.au, gdens[:,-1,0], 'm--')\n",
    "\n",
    "dsigmas = cal_dsigma(rr*np.cos(zr), dgamma)\n",
    "dsigma  = make_ring_gap(rr*np.cos(zr), dsigmas, Gpc=Gpc, wid=Wwid, dep=Wddep)\n",
    "ddens = cal_ddens_wi_cden(rr*np.cos(zr), rr*np.sin(zr), dsigma, dgamma)\n",
    "gsigma12COs = cal_gsigma(rr*np.cos(zr), cdenc12CO, gRc, ggamma)\n",
    "gsigma12CO  = make_ring_gap(rr*np.cos(zr), gsigma12COs, Gpc=Gpc, wid=Wwid, dep=WCOdep)\n",
    "gdens12CO   = cal_gdens(rr*np.cos(zr), rr*np.sin(zr), gsigma12CO, ggamma)\n",
    "gsigma = gsigma12CO / CO_H2\n",
    "gdens  = gdens12CO  / CO_H2\n",
    "axes[2].semilogy(rr[:,0,0]/natconst.au, gdens[:,-1,0]/ddens[:,-1,0], 'r')\n",
    "\n",
    "dsigmas = cal_dsigma(rr*np.cos(zr), dgamma)\n",
    "dsigma  = make_ring_gap(rr*np.cos(zr), dsigmas, Gpc=Gpc, wid=Nwid, dep=Nddep)\n",
    "ddens = cal_ddens_wi_cden(rr*np.cos(zr), rr*np.sin(zr), dsigma, dgamma)\n",
    "gsigma12COs = cal_gsigma(rr*np.cos(zr), cdenc12CO, gRc, ggamma)\n",
    "gsigma12CO  = make_ring_gap(rr*np.cos(zr), gsigma12COs, Gpc=Gpc, wid=Nwid, dep=NCOdep)\n",
    "gdens12CO   = cal_gdens(rr*np.cos(zr), rr*np.sin(zr), gsigma12CO, ggamma)\n",
    "gsigma = gsigma12CO / CO_H2\n",
    "gdens  = gdens12CO  / CO_H2\n",
    "axes[2].semilogy(rr[:,0,0]/natconst.au, gdens[:,-1,0]/ddens[:,-1,0], 'r--')\n",
    "\n",
    "axes[0].set_title('Column Density Z=0')\n",
    "axes[0].set_xlabel(r'Radius (AU)')\n",
    "axes[0].set_ylabel(r'$\\Sigma$ Column Density ($g/cm^2$)')\n",
    "axes[0].legend(loc=3)\n",
    "axes[1].set_title('Density Z=0')\n",
    "axes[1].set_xlabel(r'Radius (AU)')\n",
    "axes[1].set_ylabel(r'$\\rho$ Density ($g/cm^3$)')\n",
    "axes[1].legend(loc=3)\n",
    "axes[2].set_title('Gas To Dust Ratio Z=0')\n",
    "axes[2].set_xlabel(r'Radius (AU)')\n",
    "axes[2].set_ylabel(r'Ratio')\n",
    "\n",
    "plt.show()"
   ]
  },
  {
   "cell_type": "markdown",
   "metadata": {
    "Collapsed": "false"
   },
   "source": [
    "### (2) Dust Density, Temperature Profile"
   ]
  },
  {
   "cell_type": "code",
   "execution_count": 29,
   "metadata": {
    "Collapsed": "false"
   },
   "outputs": [],
   "source": [
    "# Setup Boundary\n",
    "R, THETA_max = rr[:,0,0], zr[0,0,0]\n",
    "# Set up model in Cylindrical System\n",
    "nr, nph, nz = nr, nphi, 100 #ntheta\n",
    "Ri       = np.linspace(rin, rout, nr+1)\n",
    "Phii     = np.linspace(0.0e0, np.pi*2.e0, nph+1)\n",
    "Zi       = np.linspace(0.0e0, R[-1]*THETA_max, nz+1)\n",
    "Rc       = 0.5 * (Ri[0:nr] + Ri[1:nr+1])\n",
    "Phic     = 0.5 * (Phii[0:nph] + Phii[1:nph+1])\n",
    "Zic      = 0.5 * (Zi[0:nz] + Zi[1:nz+1])\n",
    "QQ       = np.meshgrid(Rc,Phic,Zic,indexing='ij')\n",
    "RR       = QQ[0]\n",
    "TT       = QQ[1]\n",
    "ZZ       = QQ[2]"
   ]
  },
  {
   "cell_type": "code",
   "execution_count": 30,
   "metadata": {
    "Collapsed": "false"
   },
   "outputs": [],
   "source": [
    "# Calculate Column Density and Density, Then make Gaps\n",
    "SIGMADS = cal_dsigma(RR, dgamma)\n",
    "SIGMA = make_ring_gap(RR, SIGMADS, Gpc=Gpc, wid=Wwid, dep=Wddep)\n",
    "# Calculate Dust Density\n",
    "DDENS = cal_ddens_wi_cden(RR, ZZ, SIGMADS, dgamma)\n",
    "TOMO_D = DDENS[:,0,:].T\n",
    "TOMO_D[TOMO_D < 1e-20] = 1e-22\n",
    "# Calculate Dust Temperature\n",
    "TGAS = cal_Tgas(RR, ZZ)\n",
    "TOMO_T = TGAS[:,0,:].T"
   ]
  },
  {
   "cell_type": "code",
   "execution_count": 31,
   "metadata": {
    "Collapsed": "false"
   },
   "outputs": [
    {
     "data": {
      "image/png": "[encoded data removed]",
      "text/plain": [
       "<Figure size 1152x576 with 4 Axes>"
      ]
     },
     "metadata": {
      "needs_background": "light"
     },
     "output_type": "display_data"
    }
   ],
   "source": [
    "# Plot Dust Density and Temperature\n",
    "plt.figure(figsize=(16, 8))\n",
    "\n",
    "plt.subplot(1,2,1)\n",
    "plt.plot(R/natconst.au, R*THETA_max/natconst.au, 'k--', label='SPH')\n",
    "c  = plt.contourf(RR[:,0,0]/natconst.au, ZZ[0,0,:]/natconst.au, np.log10(TOMO_D), 10, cmap='jet')\n",
    "cb = plt.colorbar(c)\n",
    "cb.set_label(r'$\\log_{10}{\\rho}$', rotation=270.)\n",
    "plt.xlim(3, max(R/natconst.au))\n",
    "plt.ylim(min(ZZ[0,0,:]/natconst.au), max(ZZ[0,0,:]/natconst.au))\n",
    "plt.title('Dust Density (Widest Gaps)')\n",
    "plt.xlabel('r [AU]')\n",
    "plt.ylabel('Z [AU]')\n",
    "plt.legend()\n",
    "plt.tight_layout()\n",
    "\n",
    "plt.subplot(1,2,2)\n",
    "plt.plot(R/natconst.au, R*THETA_max/natconst.au, 'k--', label='SPH')\n",
    "c  = plt.contourf(RR[:,0,0]/natconst.au, ZZ[0,0,:]/natconst.au, TOMO_T, 20, cmap='jet')\n",
    "cb = plt.colorbar(c)\n",
    "plt.clim(10, 256)\n",
    "cb.set_label(r'$\\log_{10}{\\rho}$', rotation=270.)\n",
    "plt.ylim(min(ZZ[0,0,:]/natconst.au), max(ZZ[0,0,:]/natconst.au))\n",
    "plt.title('Dust Temperature (Widest Gaps)')\n",
    "plt.xlabel('r [AU]')\n",
    "plt.ylabel('Z [AU]')\n",
    "plt.tight_layout()\n",
    "plt.legend()\n",
    "\n",
    "plt.show()"
   ]
  }
 ],
 "metadata": {
  "kernelspec": {
   "display_name": "Python 3",
   "language": "python",
   "name": "python3"
  },
  "language_info": {
   "codemirror_mode": {
    "name": "ipython",
    "version": 3
   },
   "file_extension": ".py",
   "mimetype": "text/x-python",
   "name": "python",
   "nbconvert_exporter": "python",
   "pygments_lexer": "ipython3",
   "version": "3.7.1"
  }
 },
 "nbformat": 4,
 "nbformat_minor": 4
}

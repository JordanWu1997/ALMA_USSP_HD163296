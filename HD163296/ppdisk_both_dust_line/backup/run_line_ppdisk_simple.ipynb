{
 "cells": [
  {
   "cell_type": "markdown",
   "metadata": {
    "Collapsed": "false",
    "slideshow": {
     "slide_type": "slide"
    }
   },
   "source": [
    "# Setup/Run PPDisk Simple Model 1 Part 2 - 12CO Lines\n",
    "* CREDIT: RADMC-3D EXAMPLES\n",
    "* MODELING TARGET: HD163296"
   ]
  },
  {
   "cell_type": "markdown",
   "metadata": {
    "Collapsed": "false",
    "slideshow": {
     "slide_type": "slide"
    }
   },
   "source": [
    "## 00 - About ***radmc3dPy.models.ppdisk module***\n",
    "Generic protoplanetary disk model<br>\n",
    "The density is given by\n",
    "\n",
    "* $\\rho = \\frac{\\Sigma(r,\\phi)}{H_p\\sqrt{(2\\pi)}}\\exp{(-\\frac{z^2}{2H_p^2})}$\n",
    "\n",
    "    * $\\Sigma$ - Surface density\n",
    "    * $H_p$ - Pressure scale height\n",
    "\n",
    "There are two options for the functional form of surface density as a function of radius. For a simple power-law the surface density is given by\n",
    "\n",
    "* $\\Sigma(r)=\\Sigma_0 (\\frac{r}{r_{out}})^p$\n",
    "\n",
    "alternatively the surface density can also have an exponential outer tapering:\n",
    "\n",
    "* $\\Sigma(r)=\\Sigma_0 (\\frac{r}{r_{out}})^p \\exp[-(\\frac{r}{r_{out}})^{2-p}]$\n",
    "\n",
    "The molecular abundance function takes into account dissociation and <b>freeze-out of the molecules For photodissociation only the continuum (dust) shielding is taken into account in a way that whenever the continuum optical depth radially drops below a threshold value the molecular abundance is dropped to zero.</b> For freeze-out the molecular abundance below a threshold temperature is decreased by a given fractor."
   ]
  },
  {
   "cell_type": "markdown",
   "metadata": {
    "Collapsed": "false",
    "slideshow": {
     "slide_type": "subslide"
    }
   },
   "source": [
    "## 00 - About *HD163296*\n",
    "\n",
    "### Information:\n",
    "* Star Class: Herbig Ae/Be star\n",
    "* Spectral Type: A1Vep C\n",
    "* Star Mass: 2.3 $M_{\\odot}$\n",
    "* Star Radius: 1.66 $R_{\\odot}$\n",
    "* Star Temperature: 9330 K\n",
    "* Distance to us: 140. pc\n",
    "* Inclination Angle: $42^{\\circ}$\n",
    "* Position Angle: $132^{\\circ}$\n",
    "* Disk Radius: 250. unit:AU\n",
    "* Gap Position: 60., 100., 160. unit:AU\n",
    "* Gap Width: 33., 26., 55. unit:AU\n",
    "\n",
    "### Reference:\n",
    "* *Rosenfeld et al.(2013)*\n",
    "* *Isella et al. (2016)*\n",
    "* *Gregorio-Monsalvo et al. (2013)*\n",
    "* http://simbad.u-strasbg.fr/simbad/sim-id?Ident=HD+163296\n",
    "* http://www.exoplanetkyoto.org/exohtml/HD_163296.html\n",
    "* https://sites.uni.edu/morgans/astro/course/Notes/section2/spectraltemps.html"
   ]
  },
  {
   "cell_type": "markdown",
   "metadata": {
    "Collapsed": "false",
    "slideshow": {
     "slide_type": "slide"
    }
   },
   "source": [
    "## 01 - Set Up"
   ]
  },
  {
   "cell_type": "code",
   "execution_count": 1,
   "metadata": {
    "Collapsed": "false",
    "slideshow": {
     "slide_type": "fragment"
    }
   },
   "outputs": [],
   "source": [
    "#Import NumPy for array handling\n",
    "#Import plotting libraries (start Python with ipython --matplotlib)\n",
    "\n",
    "import numpy as np\n",
    "from radmc3dPy import *\n",
    "from mpl_toolkits.mplot3d import axes3d\n",
    "from matplotlib import pyplot as plt"
   ]
  },
  {
   "cell_type": "markdown",
   "metadata": {
    "Collapsed": "false",
    "slideshow": {
     "slide_type": "slide"
    }
   },
   "source": [
    "## 02 - Model Parameters"
   ]
  },
  {
   "cell_type": "code",
   "execution_count": 2,
   "metadata": {
    "Collapsed": "false"
   },
   "outputs": [],
   "source": [
    "def cal_H(cr):\n",
    "    '''\n",
    "    calculate disk scale height\n",
    "    '''\n",
    "    H = (16. * (cr/(150.*natconst.au))**1.35) * natconst.au\n",
    "    return H"
   ]
  },
  {
   "cell_type": "markdown",
   "metadata": {
    "Collapsed": "false",
    "slideshow": {
     "slide_type": "slide"
    }
   },
   "source": [
    "### (2) Set Physical Parameters"
   ]
  },
  {
   "cell_type": "code",
   "execution_count": 3,
   "metadata": {
    "Collapsed": "false",
    "slideshow": {
     "slide_type": "fragment"
    }
   },
   "outputs": [
    {
     "name": "stdout",
     "output_type": "stream",
     "text": [
      "Open Theta is 0.1284350655 radian\n"
     ]
    }
   ],
   "source": [
    "# Monte Carlo parameters\n",
    "nphot    = 1000000\n",
    "\n",
    "# Star parameters\n",
    "mstar    = 2.3 * natconst.ms\n",
    "rstar    = 1.66 * natconst.rs\n",
    "tstar    = 9330.\n",
    "pstar    = np.array([0.,0.,0.])\n",
    "\n",
    "# Grid parameters\n",
    "nr       = 250\n",
    "ntheta   = 10\n",
    "nphi     = 1\n",
    "rin      = 3 * natconst.au\n",
    "rout     = 253 * natconst.au\n",
    "thetaup = np.arccos(cal_H(rout)/rout)    # Unit: Radian\n",
    "print('Open Theta is {:.10f} radian'.format(np.pi/2-thetaup))\n",
    "\n",
    "# Disk parameters\n",
    "gammad   = 0.1\n",
    "gammag   = 0.8\n",
    "\n",
    "# Ring Gap parameters\n",
    "Gpc  = [60.*natconst.au, 100.*natconst.au, 160.*natconst.au]         # Unit: cm\n",
    "#Gwid = [15.*natconst.au, 12.*natconst.au, 15.*natconst.au]           # Unit: cm\n",
    "#Gcden = [3e-2, 3e-2, 5e-3]                                           # Unit: g/cm^2 (Those are Upper Limits)\n",
    "\n",
    "# Different Ring Gap parameters\n",
    "# Widest Gap parameters\n",
    "Wwid = [33.*natconst.au, 26.*natconst.au, 55.*natconst.au] \n",
    "Wdep = [13., 7., 3.6]\n",
    "# Narrowest Gap parameters\n",
    "Nwid = [15.*natconst.au, 12.*natconst.au, 15.*natconst.au] \n",
    "Ndep = [150., 70., 6.]"
   ]
  },
  {
   "cell_type": "markdown",
   "metadata": {
    "Collapsed": "false",
    "slideshow": {
     "slide_type": "slide"
    },
    "toc-hr-collapsed": false
   },
   "source": [
    "### (3) Make Parameters"
   ]
  },
  {
   "cell_type": "code",
   "execution_count": 4,
   "metadata": {
    "Collapsed": "false",
    "slideshow": {
     "slide_type": "fragment"
    }
   },
   "outputs": [],
   "source": [
    "# Make the coordinates\n",
    "ri       = np.linspace(rin, rout, nr+1)\n",
    "thetai   = np.linspace(thetaup, 0.5e0*np.pi, ntheta+1)\n",
    "phii     = np.linspace(0.0e0, np.pi*2.e0, nphi+1)\n",
    "rc       = 0.5 * (ri[0:nr] + ri[1:nr+1])\n",
    "thetac   = 0.5 * (thetai[0:ntheta] + thetai[1:ntheta+1])\n",
    "phic     = 0.5 * (phii[0:nphi] + phii[1:nphi+1])\n",
    "\n",
    "# Make the grid\n",
    "qq       = np.meshgrid(rc,thetac,phic,indexing='ij')\n",
    "rr       = qq[0]\n",
    "tt       = qq[1]\n",
    "zr       = np.pi/2.e0 - qq[1]\n",
    "\n",
    "# Write the wavelength_micron.inp file\n",
    "lam1     = 0.1e0\n",
    "lam2     = 7.0e0\n",
    "lam3     = 25.0e0\n",
    "lam4     = 1.0e4\n",
    "n12      = 20\n",
    "n23      = 100\n",
    "n34      = 30\n",
    "lam12    = np.logspace(np.log10(lam1),np.log10(lam2),n12,endpoint=False)\n",
    "lam23    = np.logspace(np.log10(lam2),np.log10(lam3),n23,endpoint=False)\n",
    "lam34    = np.logspace(np.log10(lam3),np.log10(lam4),n34,endpoint=True)\n",
    "lam      = np.concatenate([lam12,lam23,lam34])\n",
    "nlam     = lam.size"
   ]
  },
  {
   "cell_type": "markdown",
   "metadata": {
    "Collapsed": "false",
    "slideshow": {
     "slide_type": "slide"
    }
   },
   "source": [
    "## 04 - Calculate Gas Temperature"
   ]
  },
  {
   "cell_type": "markdown",
   "metadata": {
    "Collapsed": "false"
   },
   "source": [
    "### (1) Derived From Known Temperature Dist. "
   ]
  },
  {
   "cell_type": "markdown",
   "metadata": {
    "Collapsed": "false"
   },
   "source": [
    "#### Note: Since assming gas temperature is identical to dust temperature, here I store dust temperature as gas_temperature.inp in order to store both temperature from monte carlo simulation and straight deriviation"
   ]
  },
  {
   "cell_type": "code",
   "execution_count": 5,
   "metadata": {
    "Collapsed": "false"
   },
   "outputs": [],
   "source": [
    "def cal_zq(cr):\n",
    "    '''\n",
    "    calculate height of disk atmosphere\n",
    "    '''\n",
    "    zq0 = 63*natconst.au\n",
    "    zq = zq0 * (cr/(200*natconst.au))**1.3 * np.exp(-(cr/(800*natconst.au))**2)\n",
    "    return zq\n",
    "\n",
    "def cal_delta(cr):\n",
    "    '''\n",
    "    calculate vertical shape control parameter\n",
    "    '''\n",
    "    delta = 0.0034 * (cr/natconst.au-200) + 2.5\n",
    "    if delta <= 0.3:\n",
    "        delta = 0.3\n",
    "    return delta\n",
    "\n",
    "def cal_Ta(cr, z):\n",
    "    '''\n",
    "    calculate atmosphere temperature\n",
    "    '''\n",
    "    #Ta = 55. * (((r**2 + zr**2)**0.5) / (200*natconst.au)) ** (-0.5)\n",
    "    Ta = 68. * (((cr**2 + z**2)**0.5) / (100*natconst.au)) ** (-0.6)\n",
    "    return Ta\n",
    "\n",
    "def cal_Tm(cr):\n",
    "    '''\n",
    "    calculate midplane temperature (z=0)\n",
    "    '''\n",
    "    #Tm = 19. * (r/(155*natconst.au)) ** (-0.3)\n",
    "    Tm = 24. * (cr/(100*natconst.au)) ** (-0.5)\n",
    "    return Tm\n",
    "\n",
    "def cal_Tgas(cr, z):\n",
    "    '''\n",
    "    calculate gas temperature dist.\n",
    "    '''\n",
    "    Ta = cal_Ta(cr, z)\n",
    "    Tm = cal_Tm(cr)\n",
    "    zq = cal_zq(cr)\n",
    "    delta = cal_delta(cr)\n",
    "    if zq > z:\n",
    "        Tgas = Ta + (Tm - Ta) * np.cos(np.pi/2 * (z/zq)) ** (2*delta)\n",
    "    else:\n",
    "        Tgas = Ta\n",
    "    return Tgas"
   ]
  },
  {
   "cell_type": "code",
   "execution_count": 6,
   "metadata": {
    "Collapsed": "false"
   },
   "outputs": [],
   "source": [
    "# Make the gas temperature model\n",
    "cal_Tgas = np.vectorize(cal_Tgas)\n",
    "Tgas = cal_Tgas(rr, zr)\n",
    "\n",
    "# Write the dust density file\n",
    "with open('gas_temperature.inp','w+') as f:\n",
    "    f.write('1\\n')                       # Format number\n",
    "    f.write('%d\\n'%(nr*ntheta*nphi))     # Nr of cells\n",
    "    data = Tgas.ravel(order='F')         # Create a 1-D view, fortran-style indexing\n",
    "    data.tofile(f, sep='\\n', format=\"%13.6e\")\n",
    "    f.write('\\n')"
   ]
  },
  {
   "cell_type": "markdown",
   "metadata": {
    "Collapsed": "false",
    "slideshow": {
     "slide_type": "slide"
    }
   },
   "source": [
    "## 06 - Make Input Inp Files"
   ]
  },
  {
   "cell_type": "markdown",
   "metadata": {
    "Collapsed": "false"
   },
   "source": [
    "### (1) Gas Temperature"
   ]
  },
  {
   "cell_type": "code",
   "execution_count": 7,
   "metadata": {
    "Collapsed": "false"
   },
   "outputs": [],
   "source": [
    "# For now, assuming gas temperature equals to dust temperature"
   ]
  },
  {
   "cell_type": "markdown",
   "metadata": {
    "Collapsed": "false",
    "slideshow": {
     "slide_type": "fragment"
    }
   },
   "source": [
    "### (2) Molecule Number Density"
   ]
  },
  {
   "cell_type": "markdown",
   "metadata": {
    "Collapsed": "false"
   },
   "source": [
    "#### Option - 1 Derived from Gas to Dust Ratio\n",
    "* CO abundance is from Isella et al. (2016)"
   ]
  },
  {
   "cell_type": "code",
   "execution_count": 8,
   "metadata": {
    "Collapsed": "false",
    "slideshow": {
     "slide_type": "fragment"
    }
   },
   "outputs": [],
   "source": [
    "# Write the molecule number density file. \n",
    "# abunco = 5e-5\n",
    "# factco = abunco/(2.3*natconst.mp)\n",
    "# rhogas = 100 * rhod\n",
    "# nco    = rhogas * factco"
   ]
  },
  {
   "cell_type": "markdown",
   "metadata": {
    "Collapsed": "false"
   },
   "source": [
    "#### Option - 2 Derived from CO Density Dist.\n",
    "* CO abundance is from Isella et al. (2016)\n",
    "* Gas density dist. is from Rosenfeld et al. (2013)\n",
    "* The model disk has a gas mass of 0.09$M_{\\odot}$, $R_c$ = 115 AU, $\\gamma$ = 0.8,  $f_{co}$ = 5 × $10^{−5}$, and $\\Sigma_{C}(^{12}$CO) = $1.6 × 10^{−3} gcm^{−2}$."
   ]
  },
  {
   "cell_type": "code",
   "execution_count": 14,
   "metadata": {
    "Collapsed": "false"
   },
   "outputs": [],
   "source": [
    "def cal_H(cr):\n",
    "    '''\n",
    "    calculate disk scale height\n",
    "    '''\n",
    "    H = (16. * (cr/(150.*natconst.au))**1.35) * natconst.au\n",
    "    return H\n",
    "\n",
    "def cal_sigmag_mode2(cr, cden0, rc, gamma):\n",
    "    '''\n",
    "    calculate column density\n",
    "    with taper term\n",
    "    '''\n",
    "    cden = cden0 * ((cr/rc)**(-gamma)) * np.exp(-((cr/rc)**(2-gamma)))\n",
    "    return cden\n",
    "\n",
    "def cal_gden_mode3(cr, z, cden, gamma):\n",
    "    '''\n",
    "    calculate dust density\n",
    "    from sigmad with taper term\n",
    "    with known dust column density\n",
    "    '''\n",
    "    H = cal_H(cr)\n",
    "    den = cden / ((2*np.pi)**0.5 * H) * np.exp(-z**2/(2*H**2))\n",
    "    return den\n",
    "\n",
    "def make_ring_gap(rc, density, Gpc, wid, dep):\n",
    "    for i, gp in enumerate(Gpc):\n",
    "        density[abs(rc-gp) < wid[i]/2] /= dep[i]\n",
    "    return density\n",
    "\n",
    "def cal_depletion(n_molecule, T, Tfrz):\n",
    "    '''\n",
    "    calculate 12CO depletion factor\n",
    "    with CO depletion\n",
    "    '''\n",
    "    frz =  0.\n",
    "    if T <= Tfrz:\n",
    "        n_molecule = frz * n_molecule\n",
    "    return n_molecule\n",
    "cal_depletion = np.vectorize(cal_depletion)"
   ]
  },
  {
   "cell_type": "code",
   "execution_count": 16,
   "metadata": {
    "Collapsed": "false"
   },
   "outputs": [],
   "source": [
    "sigma12COs = cal_sigmag_mode2(rr*np.cos(zr), 1.6e-3, 165*natconst.au, 0.8)\n",
    "sigma12CO  = make_ring_gap(rr*np.cos(zr), sigma12COs, Gpc=Gpc, wid=Wwid, dep=Wdep)\n",
    "gdens12CO  = cal_gden_mode3(rr*np.cos(zr), rr*np.sin(zr), sigma12CO, 0.8)\n",
    "\n",
    "n12CO = gdens12CO / (28*natconst.mp)\n",
    "n12CO = cal_depletion(n12CO, Tgas, 19.)"
   ]
  },
  {
   "cell_type": "code",
   "execution_count": 12,
   "metadata": {
    "Collapsed": "false"
   },
   "outputs": [
    {
     "data": {
      "image/png": "[encoded data removed]",
      "text/plain": [
       "<Figure size 1728x576 with 2 Axes>"
      ]
     },
     "metadata": {
      "needs_background": "light"
     },
     "output_type": "display_data"
    }
   ],
   "source": [
    "fig, axes = plt.subplots(1, 2, figsize=(24, 8))\n",
    "# Plot Column Density (Sigma) wi/wo taper\n",
    "axes[0].semilogy(rr[:,0,0]/natconst.au, sigma12COs[:,-1,0])\n",
    "axes[0].set_xlabel(r'Radius (AU)')\n",
    "axes[0].set_ylabel(r'$\\Sigma$ Column Density ($g/cm^2$)')\n",
    "#axes[0].legend(loc=3)\n",
    "#axes[0].set_xscale('log')\n",
    "\n",
    "# Plot Dust Density (Rho) wi/wo taper At z=0\n",
    "axes[1].semilogy(rr[:,0,0]/natconst.au, gdens12CO[:,-1,0])\n",
    "axes[1].set_xlabel(r'Radius (AU)')\n",
    "axes[1].set_ylabel(r'$\\rho$ Dust Density ($g/cm^3$)')\n",
    "#axes[1].legend(loc=3)\n",
    "#axes[1].set_xscale('log')\n",
    "\n",
    "plt.show()"
   ]
  },
  {
   "cell_type": "code",
   "execution_count": 13,
   "metadata": {
    "Collapsed": "false"
   },
   "outputs": [],
   "source": [
    "with open('numberdens_co.inp','w+') as f:\n",
    "    f.write('1\\n')                       # Format number\n",
    "    f.write('%d\\n'%(nr*ntheta*nphi))           # Nr of cells\n",
    "    data = n12CO.ravel(order='F')          # Create a 1-D view, fortran-style indexing\n",
    "    data.tofile(f, sep='\\n', format=\"%13.6e\")\n",
    "    f.write('\\n')"
   ]
  },
  {
   "cell_type": "markdown",
   "metadata": {
    "Collapsed": "false",
    "slideshow": {
     "slide_type": "slide"
    }
   },
   "source": [
    "### (3) Gas Velocity"
   ]
  },
  {
   "cell_type": "code",
   "execution_count": 38,
   "metadata": {
    "Collapsed": "false",
    "slideshow": {
     "slide_type": "fragment"
    }
   },
   "outputs": [],
   "source": [
    "ri       = np.linspace(rin, rout, nr+1, endpoint=True)\n",
    "thetai   = np.linspace(thetaup, 0.5e0*np.pi, ntheta+1, endpoint=True)\n",
    "phii     = np.linspace(0.0e0, np.pi*2.0e0, nphi+1, endpoint=True)\n",
    "\n",
    "vpm = np.zeros((nr, ntheta, nphi))\n",
    "with open('gas_velocity.inp','w+') as f:\n",
    "    f.write('1\\n')                       # Format number\n",
    "    f.write('%d\\n' % (nr*ntheta*nphi))    # Nr of cells\n",
    "    for i in range(nphi):\n",
    "        for j in range(ntheta):\n",
    "            for k in range(nr):\n",
    "                r = (ri[k] + ri[k+1]) / 2\n",
    "                t = np.pi/2 - (thetai[j] + thetai[j]) / 2\n",
    "                z = r * np.sin(t)\n",
    "                vpm[k, j, i] = (natconst.gg*mstar)**0.5 * r/((r**2 + z**2)**0.75)\n",
    "                vr, vt, vp = 0.0, 0.0, (natconst.gg*mstar)**0.5 * r/((r**2 + z**2)**0.75)\n",
    "                f.write('{:.6e}\\t{:.6e}\\t{:.6e}\\t\\n'.format(vr, vt, vp))\n",
    "np.save('gas_velocity', vpm)"
   ]
  },
  {
   "cell_type": "markdown",
   "metadata": {
    "Collapsed": "false"
   },
   "source": [
    "### (4) Gas Velocity Turbulence"
   ]
  },
  {
   "cell_type": "code",
   "execution_count": 39,
   "metadata": {
    "Collapsed": "false"
   },
   "outputs": [],
   "source": [
    "vturb0  = 0.0 #3.0e5\n",
    "vturb   = np.zeros((nr,ntheta,nphi)) + vturb0\n",
    "\n",
    "# Write the microturbulence file\n",
    "with open('microturbulence.inp','w+') as f:\n",
    "    f.write('1\\n')                       # Format number\n",
    "    f.write('%d\\n'%(nr*ntheta*nphi))           # Nr of cells\n",
    "    data = vturb.ravel(order='F')          # Create a 1-D view, fortran-style indexing\n",
    "    data.tofile(f, sep='\\n', format=\"%13.6e\")\n",
    "    f.write('\\n')"
   ]
  },
  {
   "cell_type": "markdown",
   "metadata": {
    "Collapsed": "false",
    "slideshow": {
     "slide_type": "slide"
    }
   },
   "source": [
    "### (5) Molecule Line Information"
   ]
  },
  {
   "cell_type": "code",
   "execution_count": 40,
   "metadata": {
    "Collapsed": "false",
    "slideshow": {
     "slide_type": "fragment"
    }
   },
   "outputs": [],
   "source": [
    "# Write the lines.inp control file\n",
    "with open('lines.inp','w+') as f:\n",
    "    f.write('1\\n')\n",
    "    f.write('1\\n')\n",
    "    f.write('co    leiden    0    0\\n')"
   ]
  },
  {
   "cell_type": "markdown",
   "metadata": {
    "Collapsed": "false",
    "slideshow": {
     "slide_type": "fragment"
    }
   },
   "source": [
    "### (6) Line Radmc3d Input (Control File for Molecule Lines)"
   ]
  },
  {
   "cell_type": "code",
   "execution_count": 41,
   "metadata": {
    "Collapsed": "false",
    "slideshow": {
     "slide_type": "fragment"
    }
   },
   "outputs": [],
   "source": [
    "# Add Line parameter to Dust radmc3d.inp control file\n",
    "with open('radmc3d.inp','w+') as f:\n",
    "    f.write('nphot = %d\\n' % (nphot))\n",
    "    f.write('scattering_mode_max = 0\\n')   # Put this to 1 for isotropic scattering\n",
    "    f.write('modified_random_walk = 1\\n')  # Put this to 1 for random walk\n",
    "    f.write('tgas_eq_tdust   = 0')"
   ]
  }
 ],
 "metadata": {
  "kernelspec": {
   "display_name": "Python 3",
   "language": "python",
   "name": "python3"
  },
  "language_info": {
   "codemirror_mode": {
    "name": "ipython",
    "version": 3
   },
   "file_extension": ".py",
   "mimetype": "text/x-python",
   "name": "python",
   "nbconvert_exporter": "python",
   "pygments_lexer": "ipython3",
   "version": "3.7.1"
  },
  "toc-autonumbering": false,
  "toc-showcode": false,
  "toc-showmarkdowntxt": false
 },
 "nbformat": 4,
 "nbformat_minor": 4
}

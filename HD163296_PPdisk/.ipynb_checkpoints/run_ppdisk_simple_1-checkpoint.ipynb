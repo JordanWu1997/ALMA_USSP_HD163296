{
 "cells": [
  {
   "cell_type": "markdown",
   "metadata": {
    "slideshow": {
     "slide_type": "slide"
    },
    "toc-hr-collapsed": false
   },
   "source": [
    "# Setup/Run PPDisk Simple Model 1 Part 1 - Dust\n",
    "* CREDIT: RADMC-3D EXAMPLES\n",
    "* MODELING TARGET: HD163296"
   ]
  },
  {
   "cell_type": "markdown",
   "metadata": {
    "slideshow": {
     "slide_type": "slide"
    }
   },
   "source": [
    "## 00 - About ***radmc3dPy.models.ppdisk module***\n",
    "Generic protoplanetary disk model<br>\n",
    "The density is given by\n",
    "\n",
    "* $\\rho = \\frac{\\Sigma(r,\\phi)}{H_p\\sqrt{(2\\pi)}}\\exp{(-\\frac{z^2}{2H_p^2})}$\n",
    "\n",
    "    * $\\Sigma$ - Surface density\n",
    "    * $H_p$ - Pressure scale height\n",
    "\n",
    "There are two options for the functional form of surface density as a function of radius. For a simple power-law the surface density is given by\n",
    "\n",
    "* $\\Sigma(r)=\\Sigma_0 (\\frac{r}{r_{out}})^p$\n",
    "\n",
    "alternatively the surface density can also have an exponential outer tapering:\n",
    "\n",
    "* $\\Sigma(r)=\\Sigma_0 (\\frac{r}{r_{out}})^p \\exp[-(\\frac{r}{r_{out}})^{2-p}]$\n",
    "\n",
    "The molecular abundance function takes into account dissociation and <b>freeze-out of the molecules For photodissociation only the continuum (dust) shielding is taken into account in a way that whenever the continuum optical depth radially drops below a threshold value the molecular abundance is dropped to zero.</b> For freeze-out the molecular abundance below a threshold temperature is decreased by a given fractor."
   ]
  },
  {
   "cell_type": "markdown",
   "metadata": {
    "slideshow": {
     "slide_type": "subslide"
    }
   },
   "source": [
    "## 00 - About *HD163296*\n",
    "\n",
    "### Information:\n",
    "* Star Class: Herbig Ae/Be star\n",
    "* Spectral Type: A1Vep C\n",
    "* Star Mass: 2.3 $M_{\\odot}$\n",
    "* Star Radius: 1.66 $R_{\\odot}$\n",
    "* Star Temperature: 9330 K\n",
    "* Distance to us: 140. pc\n",
    "* Inclination Angle: $42^{\\circ}$\n",
    "* Position Angle: $132^{\\circ}$\n",
    "* Disk Radius: 250. unit:AU\n",
    "* Gap Position: 60., 100., 160. unit:AU\n",
    "* Gap Width: 33., 26., 55. unit:AU\n",
    "\n",
    "### Reference:\n",
    "* *Rosenfeld et al.(2013)*\n",
    "* *Isella et al. (2016)*\n",
    "* *Gregorio-Monsalvo et al. (2013)*\n",
    "* http://simbad.u-strasbg.fr/simbad/sim-id?Ident=HD+163296\n",
    "* http://www.exoplanetkyoto.org/exohtml/HD_163296.html\n",
    "* https://sites.uni.edu/morgans/astro/course/Notes/section2/spectraltemps.html"
   ]
  },
  {
   "cell_type": "markdown",
   "metadata": {
    "slideshow": {
     "slide_type": "slide"
    }
   },
   "source": [
    "## 01 - Set Up"
   ]
  },
  {
   "cell_type": "code",
   "execution_count": 1,
   "metadata": {
    "slideshow": {
     "slide_type": "fragment"
    }
   },
   "outputs": [],
   "source": [
    "#Import NumPy for array handling\n",
    "#Import plotting libraries (start Python with ipython --matplotlib)\n",
    "\n",
    "import numpy as np\n",
    "from radmc3dPy import *\n",
    "from mpl_toolkits.mplot3d import axes3d\n",
    "from matplotlib import pyplot as plt"
   ]
  },
  {
   "cell_type": "markdown",
   "metadata": {
    "slideshow": {
     "slide_type": "slide"
    }
   },
   "source": [
    "## 02 - Model Parameters"
   ]
  },
  {
   "cell_type": "markdown",
   "metadata": {
    "slideshow": {
     "slide_type": "fragment"
    }
   },
   "source": [
    "### (1) Calculate Dust Density and Column Density"
   ]
  },
  {
   "cell_type": "code",
   "execution_count": 2,
   "metadata": {
    "slideshow": {
     "slide_type": "fragment"
    }
   },
   "outputs": [],
   "source": [
    "def cal_H(r):\n",
    "    '''\n",
    "    calculate disk scale height\n",
    "    '''\n",
    "    H = (16. * (r/(150.*natconst.au))**1.35) * natconst.au\n",
    "    return H\n",
    "\n",
    "def cal_sigmad0_mode1(r, gamma):\n",
    "    '''\n",
    "    calculate dust column density\n",
    "    No taper term\n",
    "    '''\n",
    "    rc = 90.*natconst.au\n",
    "    cden0 = 0.42\n",
    "    cden = cden0 * ((r/rc)**(-gamma))\n",
    "    return cden\n",
    "\n",
    "def cal_sigmad0_mode2(r, gamma):\n",
    "    '''\n",
    "    calculate dust column density\n",
    "    No taper term\n",
    "    '''\n",
    "    rc = 90.*natconst.au\n",
    "    cden0 = 0.42\n",
    "    cden = cden0 * ((r/rc)**(-gamma)) * np.exp(-((r/rc)**(2-gamma)))\n",
    "    return cden\n",
    "\n",
    "def cal_den(r, z, gamma):\n",
    "    '''\n",
    "    calculate dust density\n",
    "    '''\n",
    "    H = cal_H(r)\n",
    "    cden = cal_sigmad0_mode1(r, gamma)\n",
    "    den = cden / ((2*np.pi)**0.5 * H) * np.exp(-z**2/(2*H**2))\n",
    "    return den\n",
    "\n",
    "def cal_den_alt(r, z, gamma):\n",
    "    '''\n",
    "    calculate dust density\n",
    "    '''\n",
    "    H = cal_H(r)\n",
    "    cden = cal_sigmad0_mode2(r, gamma)\n",
    "    den = cden / ((2*np.pi)**0.5 * H) * np.exp(-z**2/(2*H**2))\n",
    "    return den"
   ]
  },
  {
   "cell_type": "markdown",
   "metadata": {
    "slideshow": {
     "slide_type": "slide"
    }
   },
   "source": [
    "### (2) Set Physical Parameters"
   ]
  },
  {
   "cell_type": "code",
   "execution_count": 3,
   "metadata": {
    "slideshow": {
     "slide_type": "fragment"
    }
   },
   "outputs": [
    {
     "name": "stdout",
     "output_type": "stream",
     "text": [
      "Open Theta is 0.128435 radian\n"
     ]
    }
   ],
   "source": [
    "# Monte Carlo parameters\n",
    "nphot    = 1000000\n",
    "\n",
    "# Grid parameters\n",
    "nr       = 250\n",
    "ntheta   = 10\n",
    "nphi     = 1\n",
    "rin      = 3 * natconst.au\n",
    "rout     = 253 * natconst.au\n",
    "thetaup = np.arccos(cal_H(rout)/rout)    # Unit: Radian\n",
    "print('Open Theta is {:.6f} radian'.format(np.pi/2-thetaup))\n",
    "\n",
    "# Disk parameters\n",
    "gamma    = 0.1\n",
    "sigmad0  = cal_sigmad0_mode1(1*natconst.au, gamma)    # Sigma dust at 1 AU\n",
    "sigmag0  = sigmad0 * 100        # Sigma gas at 1 AU, assuming Gas:Dust is uniformly 100\n",
    "plsig    = -0.1                 # Powerlaw of the surface density (gamma)\n",
    "hr0      = 0.0184               # H_p/r at 1 AU\n",
    "plh      = 1.35                 # Powerlaw of flaring\n",
    "\n",
    "# Ring Gap parameters\n",
    "Gpc = [60.*natconst.au, 100.*natconst.au, 150.*natconst.au]         # Unit: cm\n",
    "Gwid = [15.*natconst.au, 12.*natconst.au, 15.*natconst.au]          # Unit: cm\n",
    "Gcden = [3e-2, 3e-2, 5e-3]      # Unit: g/cm^2\n",
    "\n",
    "# Star parameters\n",
    "mstar    = 2.3 * natconst.ms\n",
    "rstar    = 1.66 * natconst.rs\n",
    "tstar    = 9330.\n",
    "pstar    = np.array([0.,0.,0.])"
   ]
  },
  {
   "cell_type": "markdown",
   "metadata": {
    "slideshow": {
     "slide_type": "slide"
    },
    "toc-hr-collapsed": false
   },
   "source": [
    "### (3) Make Parameters"
   ]
  },
  {
   "cell_type": "code",
   "execution_count": 4,
   "metadata": {
    "slideshow": {
     "slide_type": "fragment"
    }
   },
   "outputs": [],
   "source": [
    "# Make the coordinates\n",
    "ri       = np.linspace(rin, rout, nr+1)\n",
    "thetai   = np.linspace(thetaup, 0.5e0*np.pi, ntheta+1)\n",
    "phii     = np.linspace(0.0e0, np.pi*2.e0, nphi+1)\n",
    "rc       = 0.5 * (ri[0:nr] + ri[1:nr+1])\n",
    "thetac   = 0.5 * (thetai[0:ntheta] + thetai[1:ntheta+1])\n",
    "phic     = 0.5 * (phii[0:nphi] + phii[1:nphi+1])\n",
    "\n",
    "# Make the grid\n",
    "qq       = np.meshgrid(rc,thetac,phic,indexing='ij')\n",
    "rr       = qq[0]\n",
    "tt       = qq[1]\n",
    "zr       = np.pi/2.e0 - qq[1]\n",
    "\n",
    "# Make the dust density model\n",
    "sigmad   = sigmad0 * (rr/natconst.au)**plsig\n",
    "for i, r in enumerate(rr[:,0]):\n",
    "    if   abs(r[0]-Gpc[0]) <= Gwid[0]: sigmad[i] = Gcden[0]\n",
    "    elif abs(r[0]-Gpc[1]) <= Gwid[1]: sigmad[i] = Gcden[1]\n",
    "    elif abs(r[0]-Gpc[2]) <= Gwid[2]: sigmad[i] = Gcden[2]\n",
    "hhr      = hr0 * (rr/natconst.au)**plh \n",
    "hh       = hhr * rr\n",
    "rhod     = (sigmad / (np.sqrt(2.0e0*np.pi)*hh)) * np.exp(-(zr**2/hhr**2)/2.0e0)\n",
    "\n",
    "# Write the wavelength_micron.inp file\n",
    "lam1     = 0.1e0\n",
    "lam2     = 7.0e0\n",
    "lam3     = 25.0e0\n",
    "lam4     = 1.0e4\n",
    "n12      = 20\n",
    "n23      = 100\n",
    "n34      = 30\n",
    "lam12    = np.logspace(np.log10(lam1),np.log10(lam2),n12,endpoint=False)\n",
    "lam23    = np.logspace(np.log10(lam2),np.log10(lam3),n23,endpoint=False)\n",
    "lam34    = np.logspace(np.log10(lam3),np.log10(lam4),n34,endpoint=True)\n",
    "lam      = np.concatenate([lam12,lam23,lam34])\n",
    "nlam     = lam.size"
   ]
  },
  {
   "cell_type": "markdown",
   "metadata": {
    "slideshow": {
     "slide_type": "slide"
    }
   },
   "source": [
    "## 03 -  Make Input Inp Files"
   ]
  },
  {
   "cell_type": "markdown",
   "metadata": {
    "slideshow": {
     "slide_type": "subslide"
    }
   },
   "source": [
    "### (1) Wavelength"
   ]
  },
  {
   "cell_type": "code",
   "execution_count": 5,
   "metadata": {
    "slideshow": {
     "slide_type": "fragment"
    }
   },
   "outputs": [],
   "source": [
    "# Write the wavelength file\n",
    "with open('wavelength_micron.inp','w+') as f:\n",
    "    f.write('%d\\n'%(nlam))\n",
    "    for value in lam:\n",
    "        f.write('%13.6e\\n'%(value))"
   ]
  },
  {
   "cell_type": "markdown",
   "metadata": {
    "slideshow": {
     "slide_type": "fragment"
    }
   },
   "source": [
    "### (2) Star (Radiation Source)"
   ]
  },
  {
   "cell_type": "code",
   "execution_count": 6,
   "metadata": {
    "slideshow": {
     "slide_type": "fragment"
    }
   },
   "outputs": [],
   "source": [
    "# Write the stars.inp file\n",
    "with open('stars.inp','w+') as f:\n",
    "    f.write('2\\n')\n",
    "    f.write('1 %d\\n\\n'%(nlam))\n",
    "    f.write('%13.6e %13.6e %13.6e %13.6e %13.6e\\n\\n'%(rstar,mstar,pstar[0],pstar[1],pstar[2]))\n",
    "    for value in lam:\n",
    "        f.write('%13.6e\\n'%(value))\n",
    "    f.write('\\n%13.6e\\n'%(-tstar))"
   ]
  },
  {
   "cell_type": "markdown",
   "metadata": {
    "slideshow": {
     "slide_type": "slide"
    },
    "toc-hr-collapsed": false
   },
   "source": [
    "### (3) AMR Grid (Meshgrid Point Table for Radmc3d)"
   ]
  },
  {
   "cell_type": "code",
   "execution_count": 7,
   "metadata": {
    "slideshow": {
     "slide_type": "fragment"
    }
   },
   "outputs": [],
   "source": [
    "# Write the grid file\n",
    "with open('amr_grid.inp','w+') as f:\n",
    "    f.write('1\\n')                       # iformat\n",
    "    f.write('0\\n')                       # AMR grid style  (0=regular grid, no AMR)\n",
    "    f.write('100\\n')                     # Coordinate system: spherical\n",
    "    f.write('0\\n')                       # gridinfo\n",
    "    f.write('1 1 0\\n')                   # Include r,theta coordinates\n",
    "    f.write('%d %d %d\\n'%(nr,ntheta,1))  # Size of grid\n",
    "    for value in ri:\n",
    "        f.write('%13.6e\\n'%(value))      # X coordinates (cell walls)\n",
    "    for value in thetai:\n",
    "        f.write('%13.6e\\n'%(value))      # Y coordinates (cell walls)\n",
    "    for value in phii:\n",
    "        f.write('%13.6e\\n'%(value))      # Z coordinates (cell walls)"
   ]
  },
  {
   "cell_type": "markdown",
   "metadata": {
    "slideshow": {
     "slide_type": "slide"
    }
   },
   "source": [
    "### (4) Dust Density"
   ]
  },
  {
   "cell_type": "code",
   "execution_count": 8,
   "metadata": {
    "slideshow": {
     "slide_type": "fragment"
    }
   },
   "outputs": [],
   "source": [
    "# Write the dust density file\n",
    "with open('dust_density.inp','w+') as f:\n",
    "    f.write('1\\n')                       # Format number\n",
    "    f.write('%d\\n'%(nr*ntheta*nphi))     # Nr of cells\n",
    "    f.write('1\\n')                       # Nr of dust species\n",
    "    data = rhod.ravel(order='F')         # Create a 1-D view, fortran-style indexing\n",
    "    data.tofile(f, sep='\\n', format=\"%13.6e\")\n",
    "    f.write('\\n')"
   ]
  },
  {
   "cell_type": "markdown",
   "metadata": {
    "slideshow": {
     "slide_type": "fragment"
    }
   },
   "source": [
    "### (5) Dust Opacity (Control File for Dust Opacity)"
   ]
  },
  {
   "cell_type": "code",
   "execution_count": 9,
   "metadata": {
    "slideshow": {
     "slide_type": "fragment"
    }
   },
   "outputs": [],
   "source": [
    "# Dust opacity control file\n",
    "with open('dustopac.inp','w+') as f:\n",
    "    f.write('2               Format number of this file\\n')\n",
    "    f.write('1               Nr of dust species\\n')\n",
    "    f.write('============================================================================\\n')\n",
    "    f.write('1               Way in which this dust species is read\\n')\n",
    "    f.write('0               0=Thermal grain\\n')\n",
    "    f.write('silicate        Extension of name of dustkappa_***.inp file\\n')\n",
    "    f.write('----------------------------------------------------------------------------\\n')"
   ]
  },
  {
   "cell_type": "markdown",
   "metadata": {
    "slideshow": {
     "slide_type": "fragment"
    }
   },
   "source": [
    "### (6) Radmc3D Input (Control File for Monte Carlo Simulation)"
   ]
  },
  {
   "cell_type": "code",
   "execution_count": 10,
   "metadata": {
    "slideshow": {
     "slide_type": "fragment"
    }
   },
   "outputs": [],
   "source": [
    "# Write the radmc3d.inp control file\n",
    "with open('radmc3d.inp','w+') as f:\n",
    "    f.write('nphot = %d\\n'%(nphot))\n",
    "    f.write('scattering_mode_max = 1\\n')\n",
    "    f.write('iranfreqmode = 1\\n')"
   ]
  },
  {
   "cell_type": "markdown",
   "metadata": {
    "slideshow": {
     "slide_type": "slide"
    }
   },
   "source": [
    "## 03 - Calculate Dust Temperature\n",
    "There are two ways to get dust temperature"
   ]
  },
  {
   "cell_type": "markdown",
   "metadata": {},
   "source": [
    "### (1) Option 1 - Derived From Monte Carlo Simulation"
   ]
  },
  {
   "cell_type": "code",
   "execution_count": 11,
   "metadata": {
    "slideshow": {
     "slide_type": "fragment"
    }
   },
   "outputs": [],
   "source": [
    "# from os import system\n",
    "# from time import time\n",
    "# tstart = time()\n",
    "# system('radmc3d mctherm')\n",
    "# tend = time()\n",
    "# print('MCtherm Process: {:.1e} photons took {:.6f} secs'.format(nphot, tend-tstart))"
   ]
  },
  {
   "cell_type": "markdown",
   "metadata": {},
   "source": [
    "### (2) Option 2 - Derived From Known Temperature Dist. "
   ]
  },
  {
   "cell_type": "markdown",
   "metadata": {},
   "source": [
    "#### Note: Since assming gas temperature is identical to dust temperature, here I store dust temperature as gas_temperature.inp in order to store both temperature from monte carlo simulation and straight deriviation"
   ]
  },
  {
   "cell_type": "code",
   "execution_count": 20,
   "metadata": {},
   "outputs": [],
   "source": [
    "def cal_zq(r):\n",
    "    '''\n",
    "    calculate height of disk atmosphere\n",
    "    '''\n",
    "    zq0 = 63*natconst.au\n",
    "    zq = zq0 * (r/(200*natconst.au))**1.3 * np.exp(-(r/(800*natconst.au))**2)\n",
    "    return zq\n",
    "\n",
    "def cal_delta(r):\n",
    "    '''\n",
    "    calculate vertical shape control parameter\n",
    "    '''\n",
    "    delta = 0.0034 * (r/natconst.au-200) + 2.5\n",
    "    if delta <= 0.3:\n",
    "        delta = 0.3\n",
    "    return delta\n",
    "\n",
    "def cal_Ta(r, th):\n",
    "    '''\n",
    "    calculate atmosphere temperature\n",
    "    '''\n",
    "    zr = r * np.sin(th)\n",
    "    Ta = 55. * (((r**2 + zr**2)**0.5) / (200*natconst.au)) ** (-0.5)\n",
    "    return Ta\n",
    "\n",
    "def cal_Tm(r):\n",
    "    '''\n",
    "    calculate midplane temperature (z=0)\n",
    "    '''\n",
    "    Tm = 19. * (r/(155*natconst.au)) ** (-0.3)\n",
    "    return Tm\n",
    "\n",
    "def cal_Tgas(r, th):\n",
    "    '''\n",
    "    calculate gas temperature dist.\n",
    "    '''\n",
    "    Ta = cal_Ta(r, th)\n",
    "    Tm = cal_Tm(r)\n",
    "    zq = cal_zq(r)\n",
    "    rr = r * np.cos(th)\n",
    "    zr = r * np.sin(th)\n",
    "    delta = cal_delta(r)\n",
    "    if zq > zr:\n",
    "        Tgas = Ta + (Tm - Ta) * np.cos(np.pi/2 * (zr/zq)) ** (2*delta)\n",
    "    else:\n",
    "        Tgas = Ta\n",
    "    return Tgas"
   ]
  },
  {
   "cell_type": "code",
   "execution_count": 21,
   "metadata": {},
   "outputs": [],
   "source": [
    "cal_zq = np.vectorize(cal_zq)\n",
    "cal_delta = np.vectorize(cal_delta)\n",
    "cal_Ta = np.vectorize(cal_Ta)\n",
    "cal_Tm = np.vectorize(cal_Tm)\n",
    "cal_Tgas = np.vectorize(cal_Tgas)"
   ]
  },
  {
   "cell_type": "code",
   "execution_count": 22,
   "metadata": {},
   "outputs": [],
   "source": [
    "# Make the gas temperature model\n",
    "Tgas = cal_Tgas(rr, zr)\n",
    "\n",
    "# Write the dust density file\n",
    "with open('gas_temperature.inp','w+') as f:\n",
    "    f.write('1\\n')                       # Format number\n",
    "    f.write('%d\\n'%(nr*ntheta*nphi))     # Nr of cells\n",
    "    data = Tgas.ravel(order='F')         # Create a 1-D view, fortran-style indexing\n",
    "    data.tofile(f, sep='\\n', format=\"%13.6e\")\n",
    "    f.write('\\n')"
   ]
  },
  {
   "cell_type": "markdown",
   "metadata": {
    "slideshow": {
     "slide_type": "slide"
    }
   },
   "source": [
    "## 04 - Make SED "
   ]
  },
  {
   "cell_type": "code",
   "execution_count": 12,
   "metadata": {
    "slideshow": {
     "slide_type": "fragment"
    }
   },
   "outputs": [
    {
     "name": "stdout",
     "output_type": "stream",
     "text": [
      "SED-making Process took 293.144741 secs\n"
     ]
    }
   ],
   "source": [
    "# Make the SED as seen at 1 pc distance\n",
    "# from os import system\n",
    "# from time import time\n",
    "# tstart = time()\n",
    "# system(\"radmc3d sed incl 42 posang 132\")\n",
    "# tend = time()\n",
    "# print('SED-making Process took {:.6f} secs'.format(tend-tstart))"
   ]
  },
  {
   "cell_type": "markdown",
   "metadata": {},
   "source": [
    "\n",
    "---"
   ]
  },
  {
   "cell_type": "markdown",
   "metadata": {
    "slideshow": {
     "slide_type": "slide"
    }
   },
   "source": [
    "# Setup/Run PPDisk Simple Model 1 Part 2 - 12CO Lines\n",
    "* CREDIT: RADMC-3D EXAMPLES\n",
    "* MODELING TARGET: HD163296"
   ]
  },
  {
   "cell_type": "markdown",
   "metadata": {
    "slideshow": {
     "slide_type": "slide"
    }
   },
   "source": [
    "## 01 - Make Input Inp Files"
   ]
  },
  {
   "cell_type": "markdown",
   "metadata": {
    "slideshow": {
     "slide_type": "fragment"
    }
   },
   "source": [
    "### (1) Molecule Number Density"
   ]
  },
  {
   "cell_type": "code",
   "execution_count": 21,
   "metadata": {
    "slideshow": {
     "slide_type": "fragment"
    }
   },
   "outputs": [],
   "source": [
    "# Write the molecule number density file. \n",
    "abunco = 1e-4\n",
    "factco = abunco/(2.3*natconst.mp)\n",
    "rhogas = 100 * rhod\n",
    "nco    = rhogas * factco\n",
    "\n",
    "with open('numberdens_co.inp','w+') as f:\n",
    "    f.write('1\\n')                       # Format number\n",
    "    f.write('%d\\n'%(nr*ntheta*nphi))           # Nr of cells\n",
    "    data = nco.ravel(order='F')          # Create a 1-D view, fortran-style indexing\n",
    "    data.tofile(f, sep='\\n', format=\"%13.6e\")\n",
    "    f.write('\\n')"
   ]
  },
  {
   "cell_type": "markdown",
   "metadata": {
    "slideshow": {
     "slide_type": "slide"
    }
   },
   "source": [
    "### (2) Gas Velocity"
   ]
  },
  {
   "cell_type": "code",
   "execution_count": 14,
   "metadata": {
    "slideshow": {
     "slide_type": "fragment"
    }
   },
   "outputs": [],
   "source": [
    "# Write the gas velocity file (ignore self-gravity)\n",
    "# Assume Molecule Gas in Keplerian Motion\n",
    "ri       = np.linspace(rin, rout, nr+1)\n",
    "thetai   = np.linspace(thetaup, 0.5e0*np.pi, ntheta+1)\n",
    "phii     = np.linspace(0.0e0, np.pi*2.0e0, nphi+1)\n",
    "\n",
    "with open('gas_velocity.inp','w+') as f:\n",
    "    f.write('1\\n')                       # Format number\n",
    "    f.write('%d\\n'%(nr*ntheta*nphi))     # Nr of cells\n",
    "    for phi in phii:\n",
    "        for theta in thetai:\n",
    "            for r in ri:\n",
    "                vr, vt, vp = 0.0, 0.0, (natconst.gg * mstar / r) ** 0.5 * np.sin(theta)\n",
    "                f.write('{:.6e}\\t{:.6e}\\t{:.6e}\\t\\n'.format(vr, vt, vp))"
   ]
  },
  {
   "cell_type": "markdown",
   "metadata": {},
   "source": [
    "### (3) Gas Temperature"
   ]
  },
  {
   "cell_type": "code",
   "execution_count": null,
   "metadata": {},
   "outputs": [],
   "source": [
    "# For now, assuming gas temperature equals to dust temperature"
   ]
  },
  {
   "cell_type": "markdown",
   "metadata": {
    "slideshow": {
     "slide_type": "slide"
    }
   },
   "source": [
    "### (4:) Molecule Line Information"
   ]
  },
  {
   "cell_type": "code",
   "execution_count": 15,
   "metadata": {
    "slideshow": {
     "slide_type": "fragment"
    }
   },
   "outputs": [],
   "source": [
    "# Write the lines.inp control file\n",
    "with open('lines.inp','w+') as f:\n",
    "    f.write('1\\n')\n",
    "    f.write('1\\n')\n",
    "    f.write('co    leiden    0    0\\n')"
   ]
  },
  {
   "cell_type": "markdown",
   "metadata": {
    "slideshow": {
     "slide_type": "fragment"
    }
   },
   "source": [
    "### (5) Line Radmc3d Input (Control File for Molecule Lines)"
   ]
  },
  {
   "cell_type": "code",
   "execution_count": 16,
   "metadata": {
    "slideshow": {
     "slide_type": "fragment"
    }
   },
   "outputs": [],
   "source": [
    "# Add Line parameter to Dust radmc3d.inp control file\n",
    "with open('radmc3d.inp','w+') as f:\n",
    "    f.write('nphot = %d\\n'%(nphot))\n",
    "    f.write('scattering_mode_max = 0\\n')   # Put this to 1 for isotropic scattering\n",
    "    f.write('tgas_eq_tdust   = 1')"
   ]
  }
 ],
 "metadata": {
  "kernelspec": {
   "display_name": "Python 3",
   "language": "python",
   "name": "python3"
  },
  "language_info": {
   "codemirror_mode": {
    "name": "ipython",
    "version": 3
   },
   "file_extension": ".py",
   "mimetype": "text/x-python",
   "name": "python",
   "nbconvert_exporter": "python",
   "pygments_lexer": "ipython3",
   "version": "3.7.1"
  },
  "toc-autonumbering": false,
  "toc-showcode": false,
  "toc-showmarkdowntxt": false
 },
 "nbformat": 4,
 "nbformat_minor": 4
}

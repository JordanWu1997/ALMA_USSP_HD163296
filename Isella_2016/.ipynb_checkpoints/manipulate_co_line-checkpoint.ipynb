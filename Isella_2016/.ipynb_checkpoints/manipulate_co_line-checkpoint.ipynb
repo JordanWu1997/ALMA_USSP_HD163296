{
 "cells": [
  {
   "cell_type": "markdown",
   "metadata": {
    "Collapsed": "false",
    "toc-hr-collapsed": false
   },
   "source": [
    "# Manipulate Images of PPDisk Model - 12CO Line"
   ]
  },
  {
   "cell_type": "markdown",
   "metadata": {
    "Collapsed": "false"
   },
   "source": [
    "## 00 - About *HD163296*\n",
    "\n",
    "### Information:\n",
    "* RA DEC (FK5): 17h53m20.6063742757s -21d56m57.379723676s\n",
    "* Star Class: Herbig Ae/Be star\n",
    "* Spectral Type: A1Vep C\n",
    "* Star Mass: 2.3 $M_{\\odot}$\n",
    "* Star Radius: 1.66 $R_{\\odot}$\n",
    "* Star Temperature: 9330 K\n",
    "* Distance to us: 140. pc\n",
    "* Inclination Angle: $42^{\\circ}$\n",
    "* Position Angle: $132^{\\circ}$\n",
    "* Disk Radius: 250. unit:AU\n",
    "* Gap Position: 60., 100., 160. unit:AU\n",
    "\n",
    "### Reference:\n",
    "* *Rosenfeld et al.(2013)*\n",
    "* *Isella et al. (2016)*\n",
    "* *Gregorio-Monsalvo et al. (2013)*\n",
    "* http://simbad.u-strasbg.fr/simbad/sim-id?Ident=HD+163296\n",
    "* http://www.exoplanetkyoto.org/exohtml/HD_163296.html\n",
    "* https://sites.uni.edu/morgans/astro/course/Notes/section2/spectraltemps.html\n",
    "\n",
    "### Observation Data:\n",
    "* Band6 Continumm: \n",
    "    * <a href=\"https://jvo.nao.ac.jp/portal/alma/archive.do?action=target.info&target=HD_163296&orderBy=&order=&showAll=false&limit=500&offset=0&freqType=X&freq=&freqAndOr=and&freqLow=&freqUpp=&fbclid=IwAR1eZRK1ERP1FuIdsGMyY4XEotGVWUjyU1P3Hh1yquWG90CzCnESUYvPCuk\"> ALMA Fits Archive - ALMA01117198 (calibrated_final_cont.image.fits)</a>\n",
    "        * This image hasn't done pbcor. (Primary Beam Correction)\n",
    "* CO 3-2 Line:\n",
    "    * <a href=\"https://jvo.nao.ac.jp/portal/alma/sv.do?action=target.info&target=HD163296\"> ALMA SV Fits Archive - ALMA00000095 (HD163296.CO3-2Line.Clean.image.fits)</a>"
   ]
  },
  {
   "cell_type": "markdown",
   "metadata": {
    "Collapsed": "false"
   },
   "source": [
    "## 01 - Setup"
   ]
  },
  {
   "cell_type": "code",
   "execution_count": 1,
   "metadata": {
    "Collapsed": "false"
   },
   "outputs": [],
   "source": [
    "import os\n",
    "import numpy as np\n",
    "from mpl_toolkits.mplot3d import axes3d\n",
    "from matplotlib import pyplot as plt\n",
    "from matplotlib import cm\n",
    "from radmc3dPy import *\n",
    "from astropy.io import fits"
   ]
  },
  {
   "cell_type": "markdown",
   "metadata": {
    "Collapsed": "false"
   },
   "source": [
    "## 02 - Model Parameter"
   ]
  },
  {
   "cell_type": "markdown",
   "metadata": {
    "Collapsed": "false"
   },
   "source": [
    "* CO Cont Observation Parameter (ALMA BAND 6 )"
   ]
  },
  {
   "cell_type": "code",
   "execution_count": 2,
   "metadata": {
    "Collapsed": "false"
   },
   "outputs": [],
   "source": [
    "# Bmaj = 0.27366140484810003      # arcsec (diameter)\n",
    "# Bmin = 0.18321035802364802      # arcsec (diameter)\n",
    "# PA   = -87.8557434082           # deg\n",
    "# Dpc  = 122.                     # Parsec\n",
    "# arcs_pixel   = 0.03             # Arcsec / Pixel\n",
    "# pixel_number = 960              # Pixel Number\n",
    "# Freq = 2.260538233010E+11       # width: 1.306843347216E+10 \n",
    "# B_Pixel = Bmaj/2 * Bmin/2 * np.pi / (arcs_pixel*arcs_pixel)   # Beam / Pixel"
   ]
  },
  {
   "cell_type": "markdown",
   "metadata": {
    "Collapsed": "false"
   },
   "source": [
    "* CO 3-2 Observation Parameter (ALMA BAND 7)"
   ]
  },
  {
   "cell_type": "code",
   "execution_count": 2,
   "metadata": {
    "Collapsed": "false"
   },
   "outputs": [],
   "source": [
    "Bmaj = 0.6513569951058          # arcsec (diameter)\n",
    "Bmin = 0.42351627349836         # arcsec (diameter)\n",
    "PA   = -92.8176574707           # deg\n",
    "Dpc  = 122.                     # Parsec\n",
    "arcs_pixel   = 0.05             # Arcsec / Pixel\n",
    "pixel_number = 512              # Pixel Number\n",
    "Freq = 3.45798874e11            # f0: 3.457959900000E+11\n",
    "Ch_wid = -1.268796391602e5      # Channel Width (Hz)\n",
    "B_Pixel = Bmaj/2 * Bmin/2 * np.pi / (arcs_pixel*arcs_pixel)   # Beam / Pixel"
   ]
  },
  {
   "cell_type": "code",
   "execution_count": 3,
   "metadata": {
    "Collapsed": "false"
   },
   "outputs": [],
   "source": [
    "def Line_Mode(Switch):\n",
    "    Switch = bool(Switch)\n",
    "    if Switch:\n",
    "        with open('lines.inp','w+') as f:\n",
    "            f.write('1\\n')\n",
    "            f.write('1\\n')\n",
    "            f.write('co    leiden    0    0\\n')\n",
    "    else:\n",
    "        # Close Line Mode\n",
    "        from os import system\n",
    "        from os.path import isfile\n",
    "        if isfile('lines.inp'):\n",
    "            system('rm lines.inp')"
   ]
  },
  {
   "cell_type": "markdown",
   "metadata": {
    "Collapsed": "false",
    "toc-hr-collapsed": true
   },
   "source": [
    "## 03 - Make Channel Map"
   ]
  },
  {
   "cell_type": "markdown",
   "metadata": {
    "Collapsed": "false"
   },
   "source": [
    "### (1) Generate CO3-2 Cube"
   ]
  },
  {
   "cell_type": "code",
   "execution_count": 5,
   "metadata": {
    "Collapsed": "false"
   },
   "outputs": [
    {
     "name": "stdout",
     "output_type": "stream",
     "text": [
      "CPU times: user 20 µs, sys: 0 ns, total: 20 µs\n",
      "Wall time: 29.3 µs\n"
     ]
    }
   ],
   "source": [
    "%%time\n",
    "# Cube start and end\n",
    "wav_s = natconst.cc/345.799e9 * 1e4 \n",
    "wav_e = natconst.cc/345.781e9 * 1e4\n",
    "\n",
    "chan_width = (wav_e - wav_s)/140.\n",
    "central_wav = natconst.cc/3.457959900000e11*1e4 \n",
    "wav_e = central_wav + 52*chan_width\n",
    "wav_s = central_wav - 52*chan_width"
   ]
  },
  {
   "cell_type": "code",
   "execution_count": null,
   "metadata": {
    "tags": []
   },
   "outputs": [],
   "source": [
    "# # CO 3-2 Cube with Line\n",
    "# Line_Mode(True)\n",
    "# image.makeImage(npix=pixel_number, incl=42., posang=-132., sizeau=pixel_number*Dpc*arcs_pixel, lambdarange=[wav_s, wav_e], nlam=105)\n",
    "# im = image.readImage()\n",
    "# im.writeFits('SIM_CO3-2_WI_LINE.fits', dpc=122., coord='17h56m21.2814s -21d57m22.358s')"
   ]
  },
  {
   "cell_type": "code",
   "execution_count": null,
   "metadata": {},
   "outputs": [],
   "source": [
    "# # CO 3-2 Cube without Line (Only Continuum)\n",
    "# Line_Mode(False)\n",
    "# image.makeImage(npix=pixel_number, incl=42., posang=-132., sizeau=pixel_number*Dpc*arcs_pixel, lambdarange=[wav_s, wav_e], nlam=105)\n",
    "# im = image.readImage()\n",
    "# im.writeFits('SIM_CO3-2_WO_LINE.fits', dpc=122., coord='17h56m21.2814s -21d57m22.358s')"
   ]
  },
  {
   "cell_type": "markdown",
   "metadata": {
    "Collapsed": "false"
   },
   "source": [
    "### (2) Write CO 3-2 Rest Frequency to fits file"
   ]
  },
  {
   "cell_type": "code",
   "execution_count": null,
   "metadata": {
    "Collapsed": "false"
   },
   "outputs": [],
   "source": [
    "# data = fits.getdata('SIM_CO3-2_WI_LINE.fits')\n",
    "# header = fits.getheader('SIM_CO3-2_WI_LINE.fits')\n",
    "# header['RESTFRQ'] = 3.457959900000E+11\n",
    "# fits.writeto('SIM_CO3-2_WI_LINE.fits', data, header, overwrite=True)\n",
    "\n",
    "# data = fits.getdata('SIM_CO3-2_WO_LINE.fits')\n",
    "# header = fits.getheader('SIM_CO3-2_WO_LINE.fits')\n",
    "# header['RESTFRQ'] = 3.457959900000E+11\n",
    "# fits.writeto('SIM_CO3-2_WO_LINE.fits', data, header, overwrite=True)"
   ]
  },
  {
   "cell_type": "markdown",
   "metadata": {
    "Collapsed": "false",
    "toc-hr-collapsed": true
   },
   "source": [
    "## 04 - Convolution and Transform from **Jy/Pixel** to **Jy/Beam**"
   ]
  },
  {
   "cell_type": "markdown",
   "metadata": {
    "Collapsed": "false"
   },
   "source": [
    "### (1) Convolution\n",
    "*  ALMA Resolution FWHM(\") = 76 / max_baseline(km) / frequency(GHz) "
   ]
  },
  {
   "cell_type": "markdown",
   "metadata": {
    "Collapsed": "false"
   },
   "source": [
    "### (2) Use Astropy Convolution"
   ]
  },
  {
   "cell_type": "code",
   "execution_count": null,
   "metadata": {
    "Collapsed": "false"
   },
   "outputs": [],
   "source": [
    "# from astropy.convolution import Gaussian2DKernel\n",
    "# from astropy.convolution import convolve\n",
    "# import matplotlib.pyplot as plt\n",
    "\n",
    "# xfwhm = Bmaj\n",
    "# yfwhm = Bmin\n",
    "# xstddev = (xfwhm/arcs_pixel) / 2.355\n",
    "# ystddev = (yfwhm/arcs_pixel) / 2.355\n",
    "# rotation = np.pi/2 - PA / 180 * np.pi # Different Def. of position angle and rotation angle (astropy)\n",
    "# gaussian_2D_kernel = Gaussian2DKernel(xstddev, ystddev, rotation)\n",
    "\n",
    "# # plt.imshow(gaussian_2D_kernel, interpolation='none')#, origin='lower')\n",
    "# # plt.xlabel('x [pixels]')\n",
    "# # plt.ylabel('y [pixels]')\n",
    "# # plt.colorbar()\n",
    "# # plt.show()\n",
    "# # #print(dir(gaussian_2D_kernel))\n",
    "# # print('All Prob Sum Up = %.6f' % gaussian_2D_kernel._array.sum())"
   ]
  },
  {
   "cell_type": "code",
   "execution_count": null,
   "metadata": {
    "Collapsed": "false"
   },
   "outputs": [],
   "source": [
    "# %%time\n",
    "# input_file = 'SIM_CO3-2_WI_LINE.fits'\n",
    "# output_file = 'SIM_CO3-2_WI_LINE_Conv.fits'\n",
    "# Head_B = fits.getheader(input_file)\n",
    "# Data_P = fits.getdata(input_file)\n",
    "# Data_B = B_Pixel * Data_P\n",
    "# fits.writeto(output_file, Data_B, Head_B, overwrite=True)\n",
    "\n",
    "# conv = []\n",
    "# kernel = Gaussian2DKernel(x_stddev=xstddev, y_stddev=ystddev, theta=-rotation)\n",
    "# for i in range(len(Data_B)):\n",
    "#     astropy_conv = convolve(Data_B[i], kernel)\n",
    "#     conv.append(astropy_conv)\n",
    "# conv = np.array(conv)\n",
    "# fits.writeto(output_file, conv, Head_B, overwrite=True)"
   ]
  },
  {
   "cell_type": "code",
   "execution_count": null,
   "metadata": {
    "Collapsed": "false"
   },
   "outputs": [],
   "source": [
    "# %%time\n",
    "# input_file = 'SIM_CO3-2_WO_LINE.fits'\n",
    "# output_file = 'SIM_CO3-2_WO_LINE_Conv.fits'\n",
    "# Head_B = fits.getheader(input_file)\n",
    "# Data_P = fits.getdata(input_file)\n",
    "# Data_B = B_Pixel * Data_P\n",
    "# fits.writeto(output_file, Data_B, Head_B, overwrite=True)\n",
    "\n",
    "# conv = []\n",
    "# kernel = Gaussian2DKernel(x_stddev=xstddev, y_stddev=ystddev, theta=-rotation)\n",
    "# for i in range(len(Data_B)):\n",
    "#     astropy_conv = convolve(Data_B[i], kernel)\n",
    "#     conv.append(astropy_conv)\n",
    "# conv = np.array(conv)\n",
    "# fits.writeto(output_file, conv, Head_B, overwrite=True)"
   ]
  },
  {
   "cell_type": "markdown",
   "metadata": {
    "Collapsed": "false"
   },
   "source": [
    "## 05 - Get Line Channel Map from Subtracting Cont Map"
   ]
  },
  {
   "cell_type": "code",
   "execution_count": null,
   "metadata": {
    "Collapsed": "false"
   },
   "outputs": [],
   "source": [
    "# Line_file = 'SIM_CO3-2_WI_LINE_Conv.fits'\n",
    "# Cont_file = 'SIM_CO3-2_WO_LINE_Conv.fits'\n",
    "# Out_file = 'SIM_CO3-2_WO_CONT_WI_Conv.fits'\n",
    "\n",
    "# Line = fits.getdata(Line_file)\n",
    "# Cont = fits.getdata(Cont_file)\n",
    "# Head = fits.getheader(Line_file)\n",
    "\n",
    "# Subtract = Line - Cont\n",
    "# fits.writeto(Out_file, Subtract, Head, overwrite=True)"
   ]
  },
  {
   "cell_type": "markdown",
   "metadata": {
    "Collapsed": "false",
    "toc-hr-collapsed": true
   },
   "source": [
    "## 06 - Data Analysis"
   ]
  },
  {
   "cell_type": "markdown",
   "metadata": {
    "Collapsed": "true"
   },
   "source": [
    "### (1) Load Simulation Data And Observation Data"
   ]
  },
  {
   "cell_type": "code",
   "execution_count": null,
   "metadata": {
    "Collapsed": "false"
   },
   "outputs": [],
   "source": [
    "# data_sim = fits.getdata('CO32_After_Conv.fits')\n",
    "# head_sim = fits.getheader('CO32_After_Conv.fits')"
   ]
  }
 ],
 "metadata": {
  "kernelspec": {
   "display_name": "Python 3",
   "language": "python",
   "name": "python3"
  },
  "language_info": {
   "codemirror_mode": {
    "name": "ipython",
    "version": 3
   },
   "file_extension": ".py",
   "mimetype": "text/x-python",
   "name": "python",
   "nbconvert_exporter": "python",
   "pygments_lexer": "ipython3",
   "version": "3.7.9"
  }
 },
 "nbformat": 4,
 "nbformat_minor": 4
}
